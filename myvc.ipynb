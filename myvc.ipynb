{
 "cells": [
  {
   "cell_type": "code",
   "execution_count": 14,
   "id": "ef1e5c3b",
   "metadata": {},
   "outputs": [
    {
     "name": "stderr",
     "output_type": "stream",
     "text": [
      "Traceback (most recent call last):\n",
      "  File \"<string>\", line 1, in <module>\n",
      "  File \"D:\\python_projects\\VoiceCLone\\venv\\lib\\site-packages\\sklearn\\__init__.py\", line 82, in <module>\n",
      "    from .base import clone\n",
      "  File \"D:\\python_projects\\VoiceCLone\\venv\\lib\\site-packages\\sklearn\\base.py\", line 20, in <module>\n",
      "    from .utils import _IS_32BIT\n",
      "ModuleNotFoundError: No module named 'sklearn.utils'\n"
     ]
    }
   ],
   "source": [
    "!python -c \"import sklearn; sklearn.show_versions()\""
   ]
  },
  {
   "cell_type": "code",
   "execution_count": 6,
   "id": "7f0cb5a7",
   "metadata": {},
   "outputs": [
    {
     "ename": "ModuleNotFoundError",
     "evalue": "No module named 'sklearn.utils'",
     "output_type": "error",
     "traceback": [
      "\u001b[1;31m---------------------------------------------------------------------------\u001b[0m",
      "\u001b[1;31mModuleNotFoundError\u001b[0m                       Traceback (most recent call last)",
      "Cell \u001b[1;32mIn [6], line 1\u001b[0m\n\u001b[1;32m----> 1\u001b[0m \u001b[38;5;28;01mimport\u001b[39;00m \u001b[38;5;21;01mlibrosa\u001b[39;00m\n\u001b[0;32m      2\u001b[0m \u001b[38;5;28;01mimport\u001b[39;00m \u001b[38;5;21;01mmatplotlib\u001b[39;00m\u001b[38;5;21;01m.\u001b[39;00m\u001b[38;5;21;01mpyplot\u001b[39;00m \u001b[38;5;28;01mas\u001b[39;00m \u001b[38;5;21;01mplt\u001b[39;00m\n\u001b[0;32m      3\u001b[0m \u001b[38;5;28;01mimport\u001b[39;00m \u001b[38;5;21;01mnumpy\u001b[39;00m \u001b[38;5;28;01mas\u001b[39;00m \u001b[38;5;21;01mnp\u001b[39;00m\n",
      "File \u001b[1;32md:\\python_projects\\voiceclone\\venv\\lib\\site-packages\\librosa\\__init__.py:211\u001b[0m\n\u001b[0;32m    209\u001b[0m \u001b[38;5;28;01mfrom\u001b[39;00m \u001b[38;5;21;01m.\u001b[39;00m \u001b[38;5;28;01mimport\u001b[39;00m core\n\u001b[0;32m    210\u001b[0m \u001b[38;5;28;01mfrom\u001b[39;00m \u001b[38;5;21;01m.\u001b[39;00m \u001b[38;5;28;01mimport\u001b[39;00m beat\n\u001b[1;32m--> 211\u001b[0m \u001b[38;5;28;01mfrom\u001b[39;00m \u001b[38;5;21;01m.\u001b[39;00m \u001b[38;5;28;01mimport\u001b[39;00m decompose\n\u001b[0;32m    212\u001b[0m \u001b[38;5;28;01mfrom\u001b[39;00m \u001b[38;5;21;01m.\u001b[39;00m \u001b[38;5;28;01mimport\u001b[39;00m effects\n\u001b[0;32m    213\u001b[0m \u001b[38;5;28;01mfrom\u001b[39;00m \u001b[38;5;21;01m.\u001b[39;00m \u001b[38;5;28;01mimport\u001b[39;00m feature\n",
      "File \u001b[1;32md:\\python_projects\\voiceclone\\venv\\lib\\site-packages\\librosa\\decompose.py:19\u001b[0m\n\u001b[0;32m     16\u001b[0m \u001b[38;5;28;01mimport\u001b[39;00m \u001b[38;5;21;01mscipy\u001b[39;00m\u001b[38;5;21;01m.\u001b[39;00m\u001b[38;5;21;01msparse\u001b[39;00m\n\u001b[0;32m     17\u001b[0m \u001b[38;5;28;01mfrom\u001b[39;00m \u001b[38;5;21;01mscipy\u001b[39;00m\u001b[38;5;21;01m.\u001b[39;00m\u001b[38;5;21;01mndimage\u001b[39;00m \u001b[38;5;28;01mimport\u001b[39;00m median_filter\n\u001b[1;32m---> 19\u001b[0m \u001b[38;5;28;01mimport\u001b[39;00m \u001b[38;5;21;01msklearn\u001b[39;00m\u001b[38;5;21;01m.\u001b[39;00m\u001b[38;5;21;01mdecomposition\u001b[39;00m\n\u001b[0;32m     21\u001b[0m \u001b[38;5;28;01mfrom\u001b[39;00m \u001b[38;5;21;01m.\u001b[39;00m \u001b[38;5;28;01mimport\u001b[39;00m core\n\u001b[0;32m     22\u001b[0m \u001b[38;5;28;01mfrom\u001b[39;00m \u001b[38;5;21;01m.\u001b[39;00m\u001b[38;5;21;01m_cache\u001b[39;00m \u001b[38;5;28;01mimport\u001b[39;00m cache\n",
      "File \u001b[1;32md:\\python_projects\\voiceclone\\venv\\lib\\site-packages\\sklearn\\__init__.py:82\u001b[0m\n\u001b[0;32m     80\u001b[0m \u001b[38;5;28;01mfrom\u001b[39;00m \u001b[38;5;21;01m.\u001b[39;00m \u001b[38;5;28;01mimport\u001b[39;00m _distributor_init  \u001b[38;5;66;03m# noqa: F401\u001b[39;00m\n\u001b[0;32m     81\u001b[0m \u001b[38;5;28;01mfrom\u001b[39;00m \u001b[38;5;21;01m.\u001b[39;00m \u001b[38;5;28;01mimport\u001b[39;00m __check_build  \u001b[38;5;66;03m# noqa: F401\u001b[39;00m\n\u001b[1;32m---> 82\u001b[0m \u001b[38;5;28;01mfrom\u001b[39;00m \u001b[38;5;21;01m.\u001b[39;00m\u001b[38;5;21;01mbase\u001b[39;00m \u001b[38;5;28;01mimport\u001b[39;00m clone\n\u001b[0;32m     83\u001b[0m \u001b[38;5;28;01mfrom\u001b[39;00m \u001b[38;5;21;01m.\u001b[39;00m\u001b[38;5;21;01mutils\u001b[39;00m\u001b[38;5;21;01m.\u001b[39;00m\u001b[38;5;21;01m_show_versions\u001b[39;00m \u001b[38;5;28;01mimport\u001b[39;00m show_versions\n\u001b[0;32m     85\u001b[0m __all__ \u001b[38;5;241m=\u001b[39m [\n\u001b[0;32m     86\u001b[0m     \u001b[38;5;124m\"\u001b[39m\u001b[38;5;124mcalibration\u001b[39m\u001b[38;5;124m\"\u001b[39m,\n\u001b[0;32m     87\u001b[0m     \u001b[38;5;124m\"\u001b[39m\u001b[38;5;124mcluster\u001b[39m\u001b[38;5;124m\"\u001b[39m,\n\u001b[1;32m   (...)\u001b[0m\n\u001b[0;32m    128\u001b[0m     \u001b[38;5;124m\"\u001b[39m\u001b[38;5;124mshow_versions\u001b[39m\u001b[38;5;124m\"\u001b[39m,\n\u001b[0;32m    129\u001b[0m ]\n",
      "File \u001b[1;32md:\\python_projects\\voiceclone\\venv\\lib\\site-packages\\sklearn\\base.py:17\u001b[0m\n\u001b[0;32m     15\u001b[0m \u001b[38;5;28;01mfrom\u001b[39;00m \u001b[38;5;21;01m.\u001b[39;00m \u001b[38;5;28;01mimport\u001b[39;00m __version__\n\u001b[0;32m     16\u001b[0m \u001b[38;5;28;01mfrom\u001b[39;00m \u001b[38;5;21;01m.\u001b[39;00m\u001b[38;5;21;01m_config\u001b[39;00m \u001b[38;5;28;01mimport\u001b[39;00m get_config\n\u001b[1;32m---> 17\u001b[0m \u001b[38;5;28;01mfrom\u001b[39;00m \u001b[38;5;21;01m.\u001b[39;00m\u001b[38;5;21;01mutils\u001b[39;00m \u001b[38;5;28;01mimport\u001b[39;00m _IS_32BIT\n\u001b[0;32m     18\u001b[0m \u001b[38;5;28;01mfrom\u001b[39;00m \u001b[38;5;21;01m.\u001b[39;00m\u001b[38;5;21;01mutils\u001b[39;00m\u001b[38;5;21;01m.\u001b[39;00m\u001b[38;5;21;01m_tags\u001b[39;00m \u001b[38;5;28;01mimport\u001b[39;00m (\n\u001b[0;32m     19\u001b[0m     _DEFAULT_TAGS,\n\u001b[0;32m     20\u001b[0m )\n\u001b[0;32m     21\u001b[0m \u001b[38;5;28;01mfrom\u001b[39;00m \u001b[38;5;21;01m.\u001b[39;00m\u001b[38;5;21;01mutils\u001b[39;00m\u001b[38;5;21;01m.\u001b[39;00m\u001b[38;5;21;01mvalidation\u001b[39;00m \u001b[38;5;28;01mimport\u001b[39;00m check_X_y\n",
      "\u001b[1;31mModuleNotFoundError\u001b[0m: No module named 'sklearn.utils'"
     ]
    }
   ],
   "source": [
    "import librosa\n",
    "import matplotlib.pyplot as plt\n",
    "import numpy as np\n",
    "import statsmodels.api as sm\n",
    "from scipy.signal import find_peaks"
   ]
  },
  {
   "cell_type": "code",
   "execution_count": null,
   "id": "08ddaec4",
   "metadata": {},
   "outputs": [],
   "source": [
    "# Load data and sampling frequency from the data file\n",
    "data, sampling_frequency = librosa.load('./Tuning fork 1.mp3')\n",
    "\n",
    "# Get some useful statistics\n",
    "T = 1/sampling_frequency # Sampling period\n",
    "N = len(data) # Signal length in samples\n",
    "t = N / sampling_frequency # Signal length in seconds\n",
    "print(T,N,t)"
   ]
  },
  {
   "cell_type": "code",
   "execution_count": null,
   "id": "0525e819",
   "metadata": {},
   "outputs": [],
   "source": [
    "Y_k = np.fft.fft(data)[0:int(N/2)]/N # FFT\n",
    "Y_k[1:] = 2*Y_k[1:] # Single-sided spectrum\n",
    "Pxx = np.abs(Y_k) # Power spectrum\n",
    "\n",
    "f = sampling_frequency * np.arange((N/2)) / N; # frequencies\n",
    "\n",
    "# plotting\n",
    "fig,ax = plt.subplots()\n",
    "plt.plot(f[0:5000], Pxx[0:5000], linewidth=2)\n",
    "plt.ylabel('Amplitude')\n",
    "plt.xlabel('Frequency [Hz]')\n",
    "plt.show()"
   ]
  },
  {
   "cell_type": "code",
   "execution_count": null,
   "id": "f01b288d",
   "metadata": {},
   "outputs": [],
   "source": [
    "auto = sm.tsa.acf(data, nlags=2000)"
   ]
  },
  {
   "cell_type": "code",
   "execution_count": null,
   "id": "9569d54c",
   "metadata": {},
   "outputs": [],
   "source": [
    "peaks = find_peaks(auto)[0] # Find peaks of the autocorrelation\n",
    "lag = peaks[0] # Choose the first peak as our pitch component lag\n",
    "pitch = sampling_frequency / lag # Transform lag into frequency"
   ]
  },
  {
   "cell_type": "code",
   "execution_count": 8,
   "id": "845570b7",
   "metadata": {},
   "outputs": [
    {
     "name": "stdout",
     "output_type": "stream",
     "text": [
      "Package              Version\n",
      "-------------------- ------------\n",
      "-cikit-learn         1.1.2\n",
      "-ip                  20.2.1\n",
      "appdirs              1.4.4\n",
      "argon2-cffi          21.3.0\n",
      "argon2-cffi-bindings 21.2.0\n",
      "asttokens            2.0.8\n",
      "attrs                22.1.0\n",
      "audioread            3.0.0\n",
      "backcall             0.2.0\n",
      "beautifulsoup4       4.11.1\n",
      "bleach               5.0.1\n",
      "certifi              2022.9.14\n",
      "cffi                 1.15.1\n",
      "charset-normalizer   2.1.1\n",
      "colorama             0.4.5\n",
      "comtypes             1.1.14\n",
      "contourpy            1.0.5\n",
      "cycler               0.11.0\n",
      "debugpy              1.6.3\n",
      "decorator            5.1.1\n",
      "defusedxml           0.7.1\n",
      "dill                 0.3.5.1\n",
      "entrypoints          0.4\n",
      "executing            1.0.0\n",
      "fastjsonschema       2.16.2\n",
      "fonttools            4.37.2\n",
      "idna                 3.4\n",
      "importlib-metadata   4.12.0\n",
      "importlib-resources  5.9.0\n",
      "inflect              5.3.0\n",
      "ipykernel            6.15.3\n",
      "ipython              8.5.0\n",
      "ipython-genutils     0.2.0\n",
      "ipywidgets           8.0.2\n",
      "jedi                 0.18.1\n",
      "Jinja2               3.1.2\n",
      "joblib               1.2.0\n",
      "jsonschema           4.16.0\n",
      "jupyter              1.0.0\n",
      "jupyter-client       7.3.5\n",
      "jupyter-console      6.4.4\n",
      "jupyter-core         4.11.1\n",
      "jupyterlab-pygments  0.2.2\n",
      "jupyterlab-widgets   3.0.3\n",
      "kiwisolver           1.4.4\n",
      "librosa              0.9.2\n",
      "llvmlite             0.39.1\n",
      "lxml                 4.9.1\n",
      "MarkupSafe           2.1.1\n",
      "matplotlib           3.5.1\n",
      "matplotlib-inline    0.1.6\n",
      "mistune              2.0.4\n",
      "nbclient             0.6.8\n",
      "nbconvert            7.0.0\n",
      "nbformat             5.6.0\n",
      "nest-asyncio         1.5.5\n",
      "notebook             6.4.12\n",
      "numba                0.56.2\n",
      "numpy                1.20.3\n",
      "packaging            21.3\n",
      "pandas               1.5.0\n",
      "pandocfilters        1.5.0\n",
      "parso                0.8.3\n",
      "patsy                0.5.2\n",
      "pickleshare          0.7.5\n",
      "Pillow               9.2.0\n",
      "pip                  20.2.1\n",
      "pkgutil-resolve-name 1.3.10\n",
      "pooch                1.6.0\n",
      "prometheus-client    0.14.1\n",
      "prompt-toolkit       3.0.31\n",
      "psutil               5.9.2\n",
      "pure-eval            0.2.2\n",
      "PyAudio              0.2.12\n",
      "pycparser            2.21\n",
      "pydantic             1.10.2\n",
      "pyfunctional         1.4.3\n",
      "Pygments             2.13.0\n",
      "pyparsing            3.0.9\n",
      "pypiwin32            223\n",
      "pyrsistent           0.18.1\n",
      "python-dateutil      2.8.2\n",
      "pyttsx3              2.90\n",
      "pytz                 2022.2.1\n",
      "pywin32              304\n",
      "pywinpty             2.0.8\n",
      "pyzmq                24.0.1\n",
      "qtconsole            5.3.2\n",
      "QtPy                 2.2.0\n",
      "requests             2.28.1\n",
      "resampy              0.4.2\n",
      "scikit-learn         1.1.2\n",
      "scipy                1.7.3\n",
      "seaborn              0.12.0\n",
      "Send2Trash           1.8.0\n",
      "setuptools           49.2.1\n",
      "six                  1.16.0\n",
      "sklearn              0.0\n",
      "sklearn-utils        0.0.15\n",
      "SoundFile            0.10.3.post1\n",
      "soupsieve            2.3.2.post1\n",
      "stack-data           0.5.0\n",
      "statsmodels          0.13.2\n",
      "tabulate             0.8.10\n",
      "terminado            0.15.0\n",
      "threadpoolctl        3.1.0\n",
      "tinycss2             1.1.1\n",
      "torch                1.12.1\n",
      "torchaudio           0.12.1\n",
      "torchvision          0.13.1\n",
      "tornado              6.2\n",
      "traitlets            5.4.0\n",
      "typing-extensions    4.3.0\n",
      "Unidecode            1.3.4\n",
      "urllib3              1.26.12\n",
      "wcwidth              0.2.5\n",
      "webencodings         0.5.1\n",
      "widgetsnbextension   4.0.3\n",
      "zipp                 3.8.1\n"
     ]
    }
   ],
   "source": [
    "!pip list"
   ]
  }
 ],
 "metadata": {
  "kernelspec": {
   "display_name": "Python 3 (ipykernel)",
   "language": "python",
   "name": "python3"
  },
  "language_info": {
   "codemirror_mode": {
    "name": "ipython",
    "version": 3
   },
   "file_extension": ".py",
   "mimetype": "text/x-python",
   "name": "python",
   "nbconvert_exporter": "python",
   "pygments_lexer": "ipython3",
   "version": "3.8.6"
  }
 },
 "nbformat": 4,
 "nbformat_minor": 5
}
