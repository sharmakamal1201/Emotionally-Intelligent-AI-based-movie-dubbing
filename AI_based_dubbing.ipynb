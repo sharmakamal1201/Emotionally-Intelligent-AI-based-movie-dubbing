{
  "nbformat": 4,
  "nbformat_minor": 0,
  "metadata": {
    "colab": {
      "provenance": [],
      "collapsed_sections": [
        "3ZP0mYseBpHh",
        "edtSYdRoBflw",
        "Leok8_uBEmdQ",
        "kijafOhrEGoB",
        "1LoYBJWaEJVy",
        "VQXoZmv7EeHl",
        "S95jSasHHrYP",
        "JTXbqFxtH3Hf",
        "UrB8RFKtIVBb",
        "cfvY9Jr8JFLY",
        "D6UsNnc3-YaE"
      ]
    },
    "kernelspec": {
      "name": "python3",
      "display_name": "Python 3"
    },
    "language_info": {
      "name": "python"
    }
  },
  "cells": [
    {
      "cell_type": "markdown",
      "source": [
        "### Install requirements"
      ],
      "metadata": {
        "id": "3ZP0mYseBpHh"
      }
    },
    {
      "cell_type": "code",
      "execution_count": null,
      "metadata": {
        "id": "EXRXkhp2-Jh5",
        "colab": {
          "base_uri": "https://localhost:8080/",
          "height": 1000
        },
        "collapsed": true,
        "outputId": "28b3d7c6-94cf-4859-ab52-06e62ec96939"
      },
      "outputs": [
        {
          "output_type": "stream",
          "name": "stdout",
          "text": [
            "Collecting numpy==1.23\n",
            "  Using cached numpy-1.23.0-cp310-cp310-manylinux_2_17_x86_64.manylinux2014_x86_64.whl.metadata (2.2 kB)\n",
            "Using cached numpy-1.23.0-cp310-cp310-manylinux_2_17_x86_64.manylinux2014_x86_64.whl (17.0 MB)\n",
            "Installing collected packages: numpy\n",
            "  Attempting uninstall: numpy\n",
            "    Found existing installation: numpy 1.22.0\n",
            "    Uninstalling numpy-1.22.0:\n",
            "      Successfully uninstalled numpy-1.22.0\n",
            "\u001b[31mERROR: pip's dependency resolver does not currently take into account all the packages that are installed. This behaviour is the source of the following dependency conflicts.\n",
            "tts 0.22.0 requires numpy==1.22.0; python_version <= \"3.10\", but you have numpy 1.23.0 which is incompatible.\n",
            "albucore 0.0.16 requires numpy>=1.24, but you have numpy 1.23.0 which is incompatible.\n",
            "albumentations 1.4.15 requires numpy>=1.24.4, but you have numpy 1.23.0 which is incompatible.\n",
            "bigframes 1.17.0 requires numpy>=1.24.0, but you have numpy 1.23.0 which is incompatible.\n",
            "chex 0.1.86 requires numpy>=1.24.1, but you have numpy 1.23.0 which is incompatible.\n",
            "cudf-cu12 24.4.1 requires pandas<2.2.2dev0,>=2.0, but you have pandas 1.5.3 which is incompatible.\n",
            "mizani 0.11.4 requires pandas>=2.1.0, but you have pandas 1.5.3 which is incompatible.\n",
            "pandas-stubs 2.1.4.231227 requires numpy>=1.26.0; python_version < \"3.13\", but you have numpy 1.23.0 which is incompatible.\n",
            "plotnine 0.13.6 requires pandas<3.0.0,>=2.1.0, but you have pandas 1.5.3 which is incompatible.\n",
            "tensorflow 2.17.0 requires numpy<2.0.0,>=1.23.5; python_version <= \"3.11\", but you have numpy 1.23.0 which is incompatible.\n",
            "xarray 2024.9.0 requires numpy>=1.24, but you have numpy 1.23.0 which is incompatible.\n",
            "xarray 2024.9.0 requires pandas>=2.1, but you have pandas 1.5.3 which is incompatible.\u001b[0m\u001b[31m\n",
            "\u001b[0mSuccessfully installed numpy-1.23.0\n"
          ]
        },
        {
          "output_type": "display_data",
          "data": {
            "application/vnd.colab-display-data+json": {
              "pip_warning": {
                "packages": [
                  "numpy"
                ]
              },
              "id": "1af8496a32bc4f5291e80fea22075324"
            }
          },
          "metadata": {}
        },
        {
          "output_type": "stream",
          "name": "stdout",
          "text": [
            "Requirement already satisfied: pydub in /usr/local/lib/python3.10/dist-packages (0.25.1)\n",
            "\u001b[31mERROR: Operation cancelled by user\u001b[0m\u001b[31m\n",
            "\u001b[0mRequirement already satisfied: pyannote.audio in /usr/local/lib/python3.10/dist-packages (3.3.2)\n",
            "Requirement already satisfied: asteroid-filterbanks>=0.4 in /usr/local/lib/python3.10/dist-packages (from pyannote.audio) (0.4.0)\n",
            "Requirement already satisfied: einops>=0.6.0 in /usr/local/lib/python3.10/dist-packages (from pyannote.audio) (0.8.0)\n",
            "Requirement already satisfied: huggingface-hub>=0.13.0 in /usr/local/lib/python3.10/dist-packages (from pyannote.audio) (0.24.7)\n",
            "Requirement already satisfied: lightning>=2.0.1 in /usr/local/lib/python3.10/dist-packages (from pyannote.audio) (2.4.0)\n",
            "Requirement already satisfied: omegaconf<3.0,>=2.1 in /usr/local/lib/python3.10/dist-packages (from pyannote.audio) (2.3.0)\n",
            "Requirement already satisfied: pyannote.core>=5.0.0 in /usr/local/lib/python3.10/dist-packages (from pyannote.audio) (5.0.0)\n",
            "Requirement already satisfied: pyannote.database>=5.0.1 in /usr/local/lib/python3.10/dist-packages (from pyannote.audio) (5.1.0)\n",
            "Requirement already satisfied: pyannote.metrics>=3.2 in /usr/local/lib/python3.10/dist-packages (from pyannote.audio) (3.2.1)\n",
            "Requirement already satisfied: pyannote.pipeline>=3.0.1 in /usr/local/lib/python3.10/dist-packages (from pyannote.audio) (3.0.1)\n",
            "Requirement already satisfied: pytorch-metric-learning>=2.1.0 in /usr/local/lib/python3.10/dist-packages (from pyannote.audio) (2.6.0)\n",
            "Requirement already satisfied: rich>=12.0.0 in /usr/local/lib/python3.10/dist-packages (from pyannote.audio) (13.8.1)\n",
            "Requirement already satisfied: semver>=3.0.0 in /usr/local/lib/python3.10/dist-packages (from pyannote.audio) (3.0.2)\n",
            "Requirement already satisfied: soundfile>=0.12.1 in /usr/local/lib/python3.10/dist-packages (from pyannote.audio) (0.12.1)\n",
            "Requirement already satisfied: speechbrain>=1.0.0 in /usr/local/lib/python3.10/dist-packages (from pyannote.audio) (1.0.1)\n",
            "Requirement already satisfied: tensorboardX>=2.6 in /usr/local/lib/python3.10/dist-packages (from pyannote.audio) (2.6.2.2)\n",
            "Requirement already satisfied: torch>=2.0.0 in /usr/local/lib/python3.10/dist-packages (from pyannote.audio) (2.4.1+cu121)\n",
            "Requirement already satisfied: torch-audiomentations>=0.11.0 in /usr/local/lib/python3.10/dist-packages (from pyannote.audio) (0.11.1)\n",
            "Requirement already satisfied: torchaudio>=2.2.0 in /usr/local/lib/python3.10/dist-packages (from pyannote.audio) (2.4.1+cu121)\n",
            "Requirement already satisfied: torchmetrics>=0.11.0 in /usr/local/lib/python3.10/dist-packages (from pyannote.audio) (1.4.2)\n",
            "Requirement already satisfied: numpy in /usr/local/lib/python3.10/dist-packages (from asteroid-filterbanks>=0.4->pyannote.audio) (1.23.0)\n",
            "Requirement already satisfied: typing-extensions in /usr/local/lib/python3.10/dist-packages (from asteroid-filterbanks>=0.4->pyannote.audio) (4.12.2)\n",
            "Requirement already satisfied: filelock in /usr/local/lib/python3.10/dist-packages (from huggingface-hub>=0.13.0->pyannote.audio) (3.16.1)\n",
            "Requirement already satisfied: fsspec>=2023.5.0 in /usr/local/lib/python3.10/dist-packages (from huggingface-hub>=0.13.0->pyannote.audio) (2024.6.1)\n",
            "Requirement already satisfied: packaging>=20.9 in /usr/local/lib/python3.10/dist-packages (from huggingface-hub>=0.13.0->pyannote.audio) (24.1)\n",
            "Requirement already satisfied: pyyaml>=5.1 in /usr/local/lib/python3.10/dist-packages (from huggingface-hub>=0.13.0->pyannote.audio) (6.0.2)\n",
            "Requirement already satisfied: requests in /usr/local/lib/python3.10/dist-packages (from huggingface-hub>=0.13.0->pyannote.audio) (2.32.3)\n",
            "Requirement already satisfied: tqdm>=4.42.1 in /usr/local/lib/python3.10/dist-packages (from huggingface-hub>=0.13.0->pyannote.audio) (4.66.5)\n",
            "Requirement already satisfied: lightning-utilities<2.0,>=0.10.0 in /usr/local/lib/python3.10/dist-packages (from lightning>=2.0.1->pyannote.audio) (0.11.7)\n",
            "Requirement already satisfied: pytorch-lightning in /usr/local/lib/python3.10/dist-packages (from lightning>=2.0.1->pyannote.audio) (2.4.0)\n",
            "Requirement already satisfied: antlr4-python3-runtime==4.9.* in /usr/local/lib/python3.10/dist-packages (from omegaconf<3.0,>=2.1->pyannote.audio) (4.9.3)\n",
            "Requirement already satisfied: sortedcontainers>=2.0.4 in /usr/local/lib/python3.10/dist-packages (from pyannote.core>=5.0.0->pyannote.audio) (2.4.0)\n",
            "Requirement already satisfied: scipy>=1.1 in /usr/local/lib/python3.10/dist-packages (from pyannote.core>=5.0.0->pyannote.audio) (1.11.4)\n",
            "Requirement already satisfied: pandas>=0.19 in /usr/local/lib/python3.10/dist-packages (from pyannote.database>=5.0.1->pyannote.audio) (1.5.3)\n",
            "Requirement already satisfied: typer>=0.12.1 in /usr/local/lib/python3.10/dist-packages (from pyannote.database>=5.0.1->pyannote.audio) (0.12.5)\n",
            "Requirement already satisfied: scikit-learn>=0.17.1 in /usr/local/lib/python3.10/dist-packages (from pyannote.metrics>=3.2->pyannote.audio) (1.3.2)\n",
            "Requirement already satisfied: docopt>=0.6.2 in /usr/local/lib/python3.10/dist-packages (from pyannote.metrics>=3.2->pyannote.audio) (0.6.2)\n",
            "Requirement already satisfied: tabulate>=0.7.7 in /usr/local/lib/python3.10/dist-packages (from pyannote.metrics>=3.2->pyannote.audio) (0.9.0)\n",
            "Requirement already satisfied: matplotlib>=2.0.0 in /usr/local/lib/python3.10/dist-packages (from pyannote.metrics>=3.2->pyannote.audio) (3.7.1)\n",
            "Requirement already satisfied: sympy>=1.1 in /usr/local/lib/python3.10/dist-packages (from pyannote.metrics>=3.2->pyannote.audio) (1.13.2)\n",
            "Requirement already satisfied: optuna>=3.1 in /usr/local/lib/python3.10/dist-packages (from pyannote.pipeline>=3.0.1->pyannote.audio) (4.0.0)\n",
            "Requirement already satisfied: markdown-it-py>=2.2.0 in /usr/local/lib/python3.10/dist-packages (from rich>=12.0.0->pyannote.audio) (3.0.0)\n",
            "Requirement already satisfied: pygments<3.0.0,>=2.13.0 in /usr/local/lib/python3.10/dist-packages (from rich>=12.0.0->pyannote.audio) (2.18.0)\n",
            "Requirement already satisfied: cffi>=1.0 in /usr/local/lib/python3.10/dist-packages (from soundfile>=0.12.1->pyannote.audio) (1.17.1)\n",
            "Requirement already satisfied: hyperpyyaml in /usr/local/lib/python3.10/dist-packages (from speechbrain>=1.0.0->pyannote.audio) (1.2.2)\n",
            "Requirement already satisfied: joblib in /usr/local/lib/python3.10/dist-packages (from speechbrain>=1.0.0->pyannote.audio) (1.4.2)\n",
            "Requirement already satisfied: sentencepiece in /usr/local/lib/python3.10/dist-packages (from speechbrain>=1.0.0->pyannote.audio) (0.1.99)\n",
            "Requirement already satisfied: protobuf>=3.20 in /usr/local/lib/python3.10/dist-packages (from tensorboardX>=2.6->pyannote.audio) (3.20.3)\n",
            "Requirement already satisfied: networkx in /usr/local/lib/python3.10/dist-packages (from torch>=2.0.0->pyannote.audio) (2.8.8)\n",
            "Requirement already satisfied: jinja2 in /usr/local/lib/python3.10/dist-packages (from torch>=2.0.0->pyannote.audio) (3.1.4)\n",
            "Requirement already satisfied: julius<0.3,>=0.2.3 in /usr/local/lib/python3.10/dist-packages (from torch-audiomentations>=0.11.0->pyannote.audio) (0.2.7)\n",
            "Requirement already satisfied: librosa>=0.6.0 in /usr/local/lib/python3.10/dist-packages (from torch-audiomentations>=0.11.0->pyannote.audio) (0.10.0)\n",
            "Requirement already satisfied: torch-pitch-shift>=1.2.2 in /usr/local/lib/python3.10/dist-packages (from torch-audiomentations>=0.11.0->pyannote.audio) (1.2.4)\n",
            "Requirement already satisfied: pycparser in /usr/local/lib/python3.10/dist-packages (from cffi>=1.0->soundfile>=0.12.1->pyannote.audio) (2.22)\n",
            "Requirement already satisfied: aiohttp!=4.0.0a0,!=4.0.0a1 in /usr/local/lib/python3.10/dist-packages (from fsspec[http]<2026.0,>=2022.5.0->lightning>=2.0.1->pyannote.audio) (3.10.5)\n",
            "Requirement already satisfied: audioread>=2.1.9 in /usr/local/lib/python3.10/dist-packages (from librosa>=0.6.0->torch-audiomentations>=0.11.0->pyannote.audio) (3.0.1)\n",
            "Requirement already satisfied: decorator>=4.3.0 in /usr/local/lib/python3.10/dist-packages (from librosa>=0.6.0->torch-audiomentations>=0.11.0->pyannote.audio) (4.4.2)\n",
            "Requirement already satisfied: numba>=0.51.0 in /usr/local/lib/python3.10/dist-packages (from librosa>=0.6.0->torch-audiomentations>=0.11.0->pyannote.audio) (0.60.0)\n",
            "Requirement already satisfied: pooch>=1.0 in /usr/local/lib/python3.10/dist-packages (from librosa>=0.6.0->torch-audiomentations>=0.11.0->pyannote.audio) (1.8.2)\n",
            "Requirement already satisfied: soxr>=0.3.2 in /usr/local/lib/python3.10/dist-packages (from librosa>=0.6.0->torch-audiomentations>=0.11.0->pyannote.audio) (0.5.0.post1)\n",
            "Requirement already satisfied: lazy-loader>=0.1 in /usr/local/lib/python3.10/dist-packages (from librosa>=0.6.0->torch-audiomentations>=0.11.0->pyannote.audio) (0.4)\n",
            "Requirement already satisfied: msgpack>=1.0 in /usr/local/lib/python3.10/dist-packages (from librosa>=0.6.0->torch-audiomentations>=0.11.0->pyannote.audio) (1.0.8)\n",
            "Requirement already satisfied: setuptools in /usr/local/lib/python3.10/dist-packages (from lightning-utilities<2.0,>=0.10.0->lightning>=2.0.1->pyannote.audio) (71.0.4)\n",
            "Requirement already satisfied: mdurl~=0.1 in /usr/local/lib/python3.10/dist-packages (from markdown-it-py>=2.2.0->rich>=12.0.0->pyannote.audio) (0.1.2)\n",
            "Requirement already satisfied: contourpy>=1.0.1 in /usr/local/lib/python3.10/dist-packages (from matplotlib>=2.0.0->pyannote.metrics>=3.2->pyannote.audio) (1.2.1)\n",
            "Requirement already satisfied: cycler>=0.10 in /usr/local/lib/python3.10/dist-packages (from matplotlib>=2.0.0->pyannote.metrics>=3.2->pyannote.audio) (0.12.1)\n",
            "Requirement already satisfied: fonttools>=4.22.0 in /usr/local/lib/python3.10/dist-packages (from matplotlib>=2.0.0->pyannote.metrics>=3.2->pyannote.audio) (4.53.1)\n",
            "Requirement already satisfied: kiwisolver>=1.0.1 in /usr/local/lib/python3.10/dist-packages (from matplotlib>=2.0.0->pyannote.metrics>=3.2->pyannote.audio) (1.4.7)\n",
            "Requirement already satisfied: pillow>=6.2.0 in /usr/local/lib/python3.10/dist-packages (from matplotlib>=2.0.0->pyannote.metrics>=3.2->pyannote.audio) (10.4.0)\n",
            "Requirement already satisfied: pyparsing>=2.3.1 in /usr/local/lib/python3.10/dist-packages (from matplotlib>=2.0.0->pyannote.metrics>=3.2->pyannote.audio) (3.1.4)\n",
            "Requirement already satisfied: python-dateutil>=2.7 in /usr/local/lib/python3.10/dist-packages (from matplotlib>=2.0.0->pyannote.metrics>=3.2->pyannote.audio) (2.8.2)\n",
            "Requirement already satisfied: alembic>=1.5.0 in /usr/local/lib/python3.10/dist-packages (from optuna>=3.1->pyannote.pipeline>=3.0.1->pyannote.audio) (1.13.2)\n",
            "Requirement already satisfied: colorlog in /usr/local/lib/python3.10/dist-packages (from optuna>=3.1->pyannote.pipeline>=3.0.1->pyannote.audio) (6.8.2)\n",
            "Requirement already satisfied: sqlalchemy>=1.3.0 in /usr/local/lib/python3.10/dist-packages (from optuna>=3.1->pyannote.pipeline>=3.0.1->pyannote.audio) (2.0.35)\n",
            "Requirement already satisfied: pytz>=2020.1 in /usr/local/lib/python3.10/dist-packages (from pandas>=0.19->pyannote.database>=5.0.1->pyannote.audio) (2024.2)\n",
            "Requirement already satisfied: threadpoolctl>=2.0.0 in /usr/local/lib/python3.10/dist-packages (from scikit-learn>=0.17.1->pyannote.metrics>=3.2->pyannote.audio) (3.5.0)\n",
            "Requirement already satisfied: mpmath<1.4,>=1.1.0 in /usr/local/lib/python3.10/dist-packages (from sympy>=1.1->pyannote.metrics>=3.2->pyannote.audio) (1.3.0)\n",
            "Requirement already satisfied: primePy>=1.3 in /usr/local/lib/python3.10/dist-packages (from torch-pitch-shift>=1.2.2->torch-audiomentations>=0.11.0->pyannote.audio) (1.3)\n",
            "Requirement already satisfied: click>=8.0.0 in /usr/local/lib/python3.10/dist-packages (from typer>=0.12.1->pyannote.database>=5.0.1->pyannote.audio) (8.1.7)\n",
            "Requirement already satisfied: shellingham>=1.3.0 in /usr/local/lib/python3.10/dist-packages (from typer>=0.12.1->pyannote.database>=5.0.1->pyannote.audio) (1.5.4)\n",
            "Requirement already satisfied: ruamel.yaml>=0.17.28 in /usr/local/lib/python3.10/dist-packages (from hyperpyyaml->speechbrain>=1.0.0->pyannote.audio) (0.18.6)\n",
            "Requirement already satisfied: MarkupSafe>=2.0 in /usr/local/lib/python3.10/dist-packages (from jinja2->torch>=2.0.0->pyannote.audio) (2.1.5)\n",
            "Requirement already satisfied: charset-normalizer<4,>=2 in /usr/local/lib/python3.10/dist-packages (from requests->huggingface-hub>=0.13.0->pyannote.audio) (3.3.2)\n",
            "Requirement already satisfied: idna<4,>=2.5 in /usr/local/lib/python3.10/dist-packages (from requests->huggingface-hub>=0.13.0->pyannote.audio) (2.10)\n",
            "Requirement already satisfied: urllib3<3,>=1.21.1 in /usr/local/lib/python3.10/dist-packages (from requests->huggingface-hub>=0.13.0->pyannote.audio) (2.0.7)\n",
            "Requirement already satisfied: certifi>=2017.4.17 in /usr/local/lib/python3.10/dist-packages (from requests->huggingface-hub>=0.13.0->pyannote.audio) (2024.8.30)\n",
            "Requirement already satisfied: aiohappyeyeballs>=2.3.0 in /usr/local/lib/python3.10/dist-packages (from aiohttp!=4.0.0a0,!=4.0.0a1->fsspec[http]<2026.0,>=2022.5.0->lightning>=2.0.1->pyannote.audio) (2.4.0)\n",
            "Requirement already satisfied: aiosignal>=1.1.2 in /usr/local/lib/python3.10/dist-packages (from aiohttp!=4.0.0a0,!=4.0.0a1->fsspec[http]<2026.0,>=2022.5.0->lightning>=2.0.1->pyannote.audio) (1.3.1)\n",
            "Requirement already satisfied: attrs>=17.3.0 in /usr/local/lib/python3.10/dist-packages (from aiohttp!=4.0.0a0,!=4.0.0a1->fsspec[http]<2026.0,>=2022.5.0->lightning>=2.0.1->pyannote.audio) (24.2.0)\n",
            "Requirement already satisfied: frozenlist>=1.1.1 in /usr/local/lib/python3.10/dist-packages (from aiohttp!=4.0.0a0,!=4.0.0a1->fsspec[http]<2026.0,>=2022.5.0->lightning>=2.0.1->pyannote.audio) (1.4.1)\n",
            "Requirement already satisfied: multidict<7.0,>=4.5 in /usr/local/lib/python3.10/dist-packages (from aiohttp!=4.0.0a0,!=4.0.0a1->fsspec[http]<2026.0,>=2022.5.0->lightning>=2.0.1->pyannote.audio) (6.1.0)\n",
            "Requirement already satisfied: yarl<2.0,>=1.0 in /usr/local/lib/python3.10/dist-packages (from aiohttp!=4.0.0a0,!=4.0.0a1->fsspec[http]<2026.0,>=2022.5.0->lightning>=2.0.1->pyannote.audio) (1.11.1)\n",
            "Requirement already satisfied: async-timeout<5.0,>=4.0 in /usr/local/lib/python3.10/dist-packages (from aiohttp!=4.0.0a0,!=4.0.0a1->fsspec[http]<2026.0,>=2022.5.0->lightning>=2.0.1->pyannote.audio) (4.0.3)\n",
            "Requirement already satisfied: Mako in /usr/local/lib/python3.10/dist-packages (from alembic>=1.5.0->optuna>=3.1->pyannote.pipeline>=3.0.1->pyannote.audio) (1.3.5)\n",
            "Requirement already satisfied: llvmlite<0.44,>=0.43.0dev0 in /usr/local/lib/python3.10/dist-packages (from numba>=0.51.0->librosa>=0.6.0->torch-audiomentations>=0.11.0->pyannote.audio) (0.43.0)\n",
            "Requirement already satisfied: platformdirs>=2.5.0 in /usr/local/lib/python3.10/dist-packages (from pooch>=1.0->librosa>=0.6.0->torch-audiomentations>=0.11.0->pyannote.audio) (4.3.6)\n",
            "Requirement already satisfied: six>=1.5 in /usr/local/lib/python3.10/dist-packages (from python-dateutil>=2.7->matplotlib>=2.0.0->pyannote.metrics>=3.2->pyannote.audio) (1.16.0)\n",
            "Requirement already satisfied: ruamel.yaml.clib>=0.2.7 in /usr/local/lib/python3.10/dist-packages (from ruamel.yaml>=0.17.28->hyperpyyaml->speechbrain>=1.0.0->pyannote.audio) (0.2.8)\n",
            "Requirement already satisfied: greenlet!=0.4.17 in /usr/local/lib/python3.10/dist-packages (from sqlalchemy>=1.3.0->optuna>=3.1->pyannote.pipeline>=3.0.1->pyannote.audio) (3.1.0)\n"
          ]
        }
      ],
      "source": [
        "# !pip uninstall numpy\n",
        "!pip install --upgrade numpy==1.23\n",
        "!pip install pydub\n",
        "!pip install pyannote.audio"
      ]
    },
    {
      "cell_type": "code",
      "source": [
        "!pip install tts"
      ],
      "metadata": {
        "colab": {
          "base_uri": "https://localhost:8080/",
          "height": 1000
        },
        "collapsed": true,
        "id": "Hvu-dO_NfOpo",
        "outputId": "ae77d8b2-c042-4a7f-91da-0a68208a65ad"
      },
      "execution_count": 3,
      "outputs": [
        {
          "output_type": "stream",
          "name": "stdout",
          "text": [
            "Requirement already satisfied: tts in /usr/local/lib/python3.10/dist-packages (0.22.0)\n",
            "Requirement already satisfied: cython>=0.29.30 in /usr/local/lib/python3.10/dist-packages (from tts) (3.0.11)\n",
            "Requirement already satisfied: scipy>=1.11.2 in /usr/local/lib/python3.10/dist-packages (from tts) (1.11.4)\n",
            "Requirement already satisfied: torch>=2.1 in /usr/local/lib/python3.10/dist-packages (from tts) (2.4.1+cu121)\n",
            "Requirement already satisfied: torchaudio in /usr/local/lib/python3.10/dist-packages (from tts) (2.4.1+cu121)\n",
            "Requirement already satisfied: soundfile>=0.12.0 in /usr/local/lib/python3.10/dist-packages (from tts) (0.12.1)\n",
            "Requirement already satisfied: librosa>=0.10.0 in /usr/local/lib/python3.10/dist-packages (from tts) (0.10.0)\n",
            "Requirement already satisfied: scikit-learn>=1.3.0 in /usr/local/lib/python3.10/dist-packages (from tts) (1.3.2)\n",
            "Requirement already satisfied: inflect>=5.6.0 in /usr/local/lib/python3.10/dist-packages (from tts) (7.4.0)\n",
            "Requirement already satisfied: tqdm>=4.64.1 in /usr/local/lib/python3.10/dist-packages (from tts) (4.66.5)\n",
            "Requirement already satisfied: anyascii>=0.3.0 in /usr/local/lib/python3.10/dist-packages (from tts) (0.3.2)\n",
            "Requirement already satisfied: pyyaml>=6.0 in /usr/local/lib/python3.10/dist-packages (from tts) (6.0.2)\n",
            "Requirement already satisfied: fsspec>=2023.6.0 in /usr/local/lib/python3.10/dist-packages (from tts) (2024.6.1)\n",
            "Requirement already satisfied: aiohttp>=3.8.1 in /usr/local/lib/python3.10/dist-packages (from tts) (3.10.5)\n",
            "Requirement already satisfied: packaging>=23.1 in /usr/local/lib/python3.10/dist-packages (from tts) (24.1)\n",
            "Requirement already satisfied: flask>=2.0.1 in /usr/local/lib/python3.10/dist-packages (from tts) (2.2.5)\n",
            "Requirement already satisfied: pysbd>=0.3.4 in /usr/local/lib/python3.10/dist-packages (from tts) (0.3.4)\n",
            "Requirement already satisfied: umap-learn>=0.5.1 in /usr/local/lib/python3.10/dist-packages (from tts) (0.5.6)\n",
            "Requirement already satisfied: pandas<2.0,>=1.4 in /usr/local/lib/python3.10/dist-packages (from tts) (1.5.3)\n",
            "Requirement already satisfied: matplotlib>=3.7.0 in /usr/local/lib/python3.10/dist-packages (from tts) (3.7.1)\n",
            "Requirement already satisfied: trainer>=0.0.32 in /usr/local/lib/python3.10/dist-packages (from tts) (0.0.36)\n",
            "Requirement already satisfied: coqpit>=0.0.16 in /usr/local/lib/python3.10/dist-packages (from tts) (0.0.17)\n",
            "Requirement already satisfied: jieba in /usr/local/lib/python3.10/dist-packages (from tts) (0.42.1)\n",
            "Requirement already satisfied: pypinyin in /usr/local/lib/python3.10/dist-packages (from tts) (0.53.0)\n",
            "Requirement already satisfied: hangul-romanize in /usr/local/lib/python3.10/dist-packages (from tts) (0.1.0)\n",
            "Requirement already satisfied: gruut==2.2.3 in /usr/local/lib/python3.10/dist-packages (from gruut[de,es,fr]==2.2.3->tts) (2.2.3)\n",
            "Requirement already satisfied: jamo in /usr/local/lib/python3.10/dist-packages (from tts) (0.4.1)\n",
            "Requirement already satisfied: nltk in /usr/local/lib/python3.10/dist-packages (from tts) (3.8.1)\n",
            "Requirement already satisfied: g2pkk>=0.1.1 in /usr/local/lib/python3.10/dist-packages (from tts) (0.1.2)\n",
            "Requirement already satisfied: bangla in /usr/local/lib/python3.10/dist-packages (from tts) (0.0.2)\n",
            "Requirement already satisfied: bnnumerizer in /usr/local/lib/python3.10/dist-packages (from tts) (0.0.2)\n",
            "Requirement already satisfied: bnunicodenormalizer in /usr/local/lib/python3.10/dist-packages (from tts) (0.1.7)\n",
            "Requirement already satisfied: einops>=0.6.0 in /usr/local/lib/python3.10/dist-packages (from tts) (0.8.0)\n",
            "Requirement already satisfied: transformers>=4.33.0 in /usr/local/lib/python3.10/dist-packages (from tts) (4.44.2)\n",
            "Requirement already satisfied: encodec>=0.1.1 in /usr/local/lib/python3.10/dist-packages (from tts) (0.1.1)\n",
            "Requirement already satisfied: unidecode>=1.3.2 in /usr/local/lib/python3.10/dist-packages (from tts) (1.3.8)\n",
            "Requirement already satisfied: num2words in /usr/local/lib/python3.10/dist-packages (from tts) (0.5.13)\n",
            "Requirement already satisfied: spacy>=3 in /usr/local/lib/python3.10/dist-packages (from spacy[ja]>=3->tts) (3.7.6)\n",
            "Collecting numpy==1.22.0 (from tts)\n",
            "  Using cached numpy-1.22.0-cp310-cp310-manylinux_2_17_x86_64.manylinux2014_x86_64.whl.metadata (2.0 kB)\n",
            "Requirement already satisfied: numba>=0.57.0 in /usr/local/lib/python3.10/dist-packages (from tts) (0.60.0)\n",
            "Requirement already satisfied: Babel<3.0.0,>=2.8.0 in /usr/local/lib/python3.10/dist-packages (from gruut==2.2.3->gruut[de,es,fr]==2.2.3->tts) (2.16.0)\n",
            "Requirement already satisfied: dateparser~=1.1.0 in /usr/local/lib/python3.10/dist-packages (from gruut==2.2.3->gruut[de,es,fr]==2.2.3->tts) (1.1.8)\n",
            "Requirement already satisfied: gruut-ipa<1.0,>=0.12.0 in /usr/local/lib/python3.10/dist-packages (from gruut==2.2.3->gruut[de,es,fr]==2.2.3->tts) (0.13.0)\n",
            "Requirement already satisfied: gruut-lang-en~=2.0.0 in /usr/local/lib/python3.10/dist-packages (from gruut==2.2.3->gruut[de,es,fr]==2.2.3->tts) (2.0.1)\n",
            "Requirement already satisfied: jsonlines~=1.2.0 in /usr/local/lib/python3.10/dist-packages (from gruut==2.2.3->gruut[de,es,fr]==2.2.3->tts) (1.2.0)\n",
            "Requirement already satisfied: networkx<3.0.0,>=2.5.0 in /usr/local/lib/python3.10/dist-packages (from gruut==2.2.3->gruut[de,es,fr]==2.2.3->tts) (2.8.8)\n",
            "Requirement already satisfied: python-crfsuite~=0.9.7 in /usr/local/lib/python3.10/dist-packages (from gruut==2.2.3->gruut[de,es,fr]==2.2.3->tts) (0.9.10)\n",
            "Requirement already satisfied: gruut-lang-de~=2.0.0 in /usr/local/lib/python3.10/dist-packages (from gruut[de,es,fr]==2.2.3->tts) (2.0.1)\n",
            "Requirement already satisfied: gruut-lang-es~=2.0.0 in /usr/local/lib/python3.10/dist-packages (from gruut[de,es,fr]==2.2.3->tts) (2.0.1)\n",
            "Requirement already satisfied: gruut-lang-fr~=2.0.0 in /usr/local/lib/python3.10/dist-packages (from gruut[de,es,fr]==2.2.3->tts) (2.0.2)\n",
            "Requirement already satisfied: aiohappyeyeballs>=2.3.0 in /usr/local/lib/python3.10/dist-packages (from aiohttp>=3.8.1->tts) (2.4.0)\n",
            "Requirement already satisfied: aiosignal>=1.1.2 in /usr/local/lib/python3.10/dist-packages (from aiohttp>=3.8.1->tts) (1.3.1)\n",
            "Requirement already satisfied: attrs>=17.3.0 in /usr/local/lib/python3.10/dist-packages (from aiohttp>=3.8.1->tts) (24.2.0)\n",
            "Requirement already satisfied: frozenlist>=1.1.1 in /usr/local/lib/python3.10/dist-packages (from aiohttp>=3.8.1->tts) (1.4.1)\n",
            "Requirement already satisfied: multidict<7.0,>=4.5 in /usr/local/lib/python3.10/dist-packages (from aiohttp>=3.8.1->tts) (6.1.0)\n",
            "Requirement already satisfied: yarl<2.0,>=1.0 in /usr/local/lib/python3.10/dist-packages (from aiohttp>=3.8.1->tts) (1.11.1)\n",
            "Requirement already satisfied: async-timeout<5.0,>=4.0 in /usr/local/lib/python3.10/dist-packages (from aiohttp>=3.8.1->tts) (4.0.3)\n",
            "Requirement already satisfied: Werkzeug>=2.2.2 in /usr/local/lib/python3.10/dist-packages (from flask>=2.0.1->tts) (3.0.4)\n",
            "Requirement already satisfied: Jinja2>=3.0 in /usr/local/lib/python3.10/dist-packages (from flask>=2.0.1->tts) (3.1.4)\n",
            "Requirement already satisfied: itsdangerous>=2.0 in /usr/local/lib/python3.10/dist-packages (from flask>=2.0.1->tts) (2.2.0)\n",
            "Requirement already satisfied: click>=8.0 in /usr/local/lib/python3.10/dist-packages (from flask>=2.0.1->tts) (8.1.7)\n",
            "Requirement already satisfied: more-itertools>=8.5.0 in /usr/local/lib/python3.10/dist-packages (from inflect>=5.6.0->tts) (10.5.0)\n",
            "Requirement already satisfied: typeguard>=4.0.1 in /usr/local/lib/python3.10/dist-packages (from inflect>=5.6.0->tts) (4.3.0)\n",
            "Requirement already satisfied: audioread>=2.1.9 in /usr/local/lib/python3.10/dist-packages (from librosa>=0.10.0->tts) (3.0.1)\n",
            "Requirement already satisfied: joblib>=0.14 in /usr/local/lib/python3.10/dist-packages (from librosa>=0.10.0->tts) (1.4.2)\n",
            "Requirement already satisfied: decorator>=4.3.0 in /usr/local/lib/python3.10/dist-packages (from librosa>=0.10.0->tts) (4.4.2)\n",
            "Requirement already satisfied: pooch>=1.0 in /usr/local/lib/python3.10/dist-packages (from librosa>=0.10.0->tts) (1.8.2)\n",
            "Requirement already satisfied: soxr>=0.3.2 in /usr/local/lib/python3.10/dist-packages (from librosa>=0.10.0->tts) (0.5.0.post1)\n",
            "Requirement already satisfied: typing-extensions>=4.1.1 in /usr/local/lib/python3.10/dist-packages (from librosa>=0.10.0->tts) (4.12.2)\n",
            "Requirement already satisfied: lazy-loader>=0.1 in /usr/local/lib/python3.10/dist-packages (from librosa>=0.10.0->tts) (0.4)\n",
            "Requirement already satisfied: msgpack>=1.0 in /usr/local/lib/python3.10/dist-packages (from librosa>=0.10.0->tts) (1.0.8)\n",
            "Requirement already satisfied: contourpy>=1.0.1 in /usr/local/lib/python3.10/dist-packages (from matplotlib>=3.7.0->tts) (1.2.1)\n",
            "Requirement already satisfied: cycler>=0.10 in /usr/local/lib/python3.10/dist-packages (from matplotlib>=3.7.0->tts) (0.12.1)\n",
            "Requirement already satisfied: fonttools>=4.22.0 in /usr/local/lib/python3.10/dist-packages (from matplotlib>=3.7.0->tts) (4.53.1)\n",
            "Requirement already satisfied: kiwisolver>=1.0.1 in /usr/local/lib/python3.10/dist-packages (from matplotlib>=3.7.0->tts) (1.4.7)\n",
            "Requirement already satisfied: pillow>=6.2.0 in /usr/local/lib/python3.10/dist-packages (from matplotlib>=3.7.0->tts) (10.4.0)\n",
            "Requirement already satisfied: pyparsing>=2.3.1 in /usr/local/lib/python3.10/dist-packages (from matplotlib>=3.7.0->tts) (3.1.4)\n",
            "Requirement already satisfied: python-dateutil>=2.7 in /usr/local/lib/python3.10/dist-packages (from matplotlib>=3.7.0->tts) (2.8.2)\n",
            "Requirement already satisfied: docopt>=0.6.2 in /usr/local/lib/python3.10/dist-packages (from num2words->tts) (0.6.2)\n",
            "Requirement already satisfied: llvmlite<0.44,>=0.43.0dev0 in /usr/local/lib/python3.10/dist-packages (from numba>=0.57.0->tts) (0.43.0)\n",
            "Requirement already satisfied: pytz>=2020.1 in /usr/local/lib/python3.10/dist-packages (from pandas<2.0,>=1.4->tts) (2024.2)\n",
            "Requirement already satisfied: threadpoolctl>=2.0.0 in /usr/local/lib/python3.10/dist-packages (from scikit-learn>=1.3.0->tts) (3.5.0)\n",
            "Requirement already satisfied: cffi>=1.0 in /usr/local/lib/python3.10/dist-packages (from soundfile>=0.12.0->tts) (1.17.1)\n",
            "Requirement already satisfied: spacy-legacy<3.1.0,>=3.0.11 in /usr/local/lib/python3.10/dist-packages (from spacy>=3->spacy[ja]>=3->tts) (3.0.12)\n",
            "Requirement already satisfied: spacy-loggers<2.0.0,>=1.0.0 in /usr/local/lib/python3.10/dist-packages (from spacy>=3->spacy[ja]>=3->tts) (1.0.5)\n",
            "Requirement already satisfied: murmurhash<1.1.0,>=0.28.0 in /usr/local/lib/python3.10/dist-packages (from spacy>=3->spacy[ja]>=3->tts) (1.0.10)\n",
            "Requirement already satisfied: cymem<2.1.0,>=2.0.2 in /usr/local/lib/python3.10/dist-packages (from spacy>=3->spacy[ja]>=3->tts) (2.0.8)\n",
            "Requirement already satisfied: preshed<3.1.0,>=3.0.2 in /usr/local/lib/python3.10/dist-packages (from spacy>=3->spacy[ja]>=3->tts) (3.0.9)\n",
            "Requirement already satisfied: thinc<8.3.0,>=8.2.2 in /usr/local/lib/python3.10/dist-packages (from spacy>=3->spacy[ja]>=3->tts) (8.2.5)\n",
            "Requirement already satisfied: wasabi<1.2.0,>=0.9.1 in /usr/local/lib/python3.10/dist-packages (from spacy>=3->spacy[ja]>=3->tts) (1.1.3)\n",
            "Requirement already satisfied: srsly<3.0.0,>=2.4.3 in /usr/local/lib/python3.10/dist-packages (from spacy>=3->spacy[ja]>=3->tts) (2.4.8)\n",
            "Requirement already satisfied: catalogue<2.1.0,>=2.0.6 in /usr/local/lib/python3.10/dist-packages (from spacy>=3->spacy[ja]>=3->tts) (2.0.10)\n",
            "Requirement already satisfied: weasel<0.5.0,>=0.1.0 in /usr/local/lib/python3.10/dist-packages (from spacy>=3->spacy[ja]>=3->tts) (0.4.1)\n",
            "Requirement already satisfied: typer<1.0.0,>=0.3.0 in /usr/local/lib/python3.10/dist-packages (from spacy>=3->spacy[ja]>=3->tts) (0.12.5)\n",
            "Requirement already satisfied: requests<3.0.0,>=2.13.0 in /usr/local/lib/python3.10/dist-packages (from spacy>=3->spacy[ja]>=3->tts) (2.32.3)\n",
            "Requirement already satisfied: pydantic!=1.8,!=1.8.1,<3.0.0,>=1.7.4 in /usr/local/lib/python3.10/dist-packages (from spacy>=3->spacy[ja]>=3->tts) (2.9.2)\n",
            "Requirement already satisfied: setuptools in /usr/local/lib/python3.10/dist-packages (from spacy>=3->spacy[ja]>=3->tts) (71.0.4)\n",
            "Requirement already satisfied: langcodes<4.0.0,>=3.2.0 in /usr/local/lib/python3.10/dist-packages (from spacy>=3->spacy[ja]>=3->tts) (3.4.0)\n",
            "Requirement already satisfied: sudachipy!=0.6.1,>=0.5.2 in /usr/local/lib/python3.10/dist-packages (from spacy[ja]>=3->tts) (0.6.8)\n",
            "Requirement already satisfied: sudachidict-core>=20211220 in /usr/local/lib/python3.10/dist-packages (from spacy[ja]>=3->tts) (20240716)\n",
            "Requirement already satisfied: filelock in /usr/local/lib/python3.10/dist-packages (from torch>=2.1->tts) (3.16.1)\n",
            "Requirement already satisfied: sympy in /usr/local/lib/python3.10/dist-packages (from torch>=2.1->tts) (1.13.2)\n",
            "Requirement already satisfied: psutil in /usr/local/lib/python3.10/dist-packages (from trainer>=0.0.32->tts) (5.9.5)\n",
            "Requirement already satisfied: tensorboard in /usr/local/lib/python3.10/dist-packages (from trainer>=0.0.32->tts) (2.17.0)\n",
            "Requirement already satisfied: huggingface-hub<1.0,>=0.23.2 in /usr/local/lib/python3.10/dist-packages (from transformers>=4.33.0->tts) (0.24.7)\n",
            "Requirement already satisfied: regex!=2019.12.17 in /usr/local/lib/python3.10/dist-packages (from transformers>=4.33.0->tts) (2024.9.11)\n",
            "Requirement already satisfied: safetensors>=0.4.1 in /usr/local/lib/python3.10/dist-packages (from transformers>=4.33.0->tts) (0.4.5)\n",
            "Requirement already satisfied: tokenizers<0.20,>=0.19 in /usr/local/lib/python3.10/dist-packages (from transformers>=4.33.0->tts) (0.19.1)\n",
            "Requirement already satisfied: pynndescent>=0.5 in /usr/local/lib/python3.10/dist-packages (from umap-learn>=0.5.1->tts) (0.5.13)\n",
            "Requirement already satisfied: pycparser in /usr/local/lib/python3.10/dist-packages (from cffi>=1.0->soundfile>=0.12.0->tts) (2.22)\n",
            "Requirement already satisfied: tzlocal in /usr/local/lib/python3.10/dist-packages (from dateparser~=1.1.0->gruut==2.2.3->gruut[de,es,fr]==2.2.3->tts) (5.2)\n",
            "Requirement already satisfied: MarkupSafe>=2.0 in /usr/local/lib/python3.10/dist-packages (from Jinja2>=3.0->flask>=2.0.1->tts) (2.1.5)\n",
            "Requirement already satisfied: six in /usr/local/lib/python3.10/dist-packages (from jsonlines~=1.2.0->gruut==2.2.3->gruut[de,es,fr]==2.2.3->tts) (1.16.0)\n",
            "Requirement already satisfied: language-data>=1.2 in /usr/local/lib/python3.10/dist-packages (from langcodes<4.0.0,>=3.2.0->spacy>=3->spacy[ja]>=3->tts) (1.2.0)\n",
            "Requirement already satisfied: platformdirs>=2.5.0 in /usr/local/lib/python3.10/dist-packages (from pooch>=1.0->librosa>=0.10.0->tts) (4.3.6)\n",
            "Requirement already satisfied: annotated-types>=0.6.0 in /usr/local/lib/python3.10/dist-packages (from pydantic!=1.8,!=1.8.1,<3.0.0,>=1.7.4->spacy>=3->spacy[ja]>=3->tts) (0.7.0)\n",
            "Requirement already satisfied: pydantic-core==2.23.4 in /usr/local/lib/python3.10/dist-packages (from pydantic!=1.8,!=1.8.1,<3.0.0,>=1.7.4->spacy>=3->spacy[ja]>=3->tts) (2.23.4)\n",
            "Requirement already satisfied: charset-normalizer<4,>=2 in /usr/local/lib/python3.10/dist-packages (from requests<3.0.0,>=2.13.0->spacy>=3->spacy[ja]>=3->tts) (3.3.2)\n",
            "Requirement already satisfied: idna<4,>=2.5 in /usr/local/lib/python3.10/dist-packages (from requests<3.0.0,>=2.13.0->spacy>=3->spacy[ja]>=3->tts) (2.10)\n",
            "Requirement already satisfied: urllib3<3,>=1.21.1 in /usr/local/lib/python3.10/dist-packages (from requests<3.0.0,>=2.13.0->spacy>=3->spacy[ja]>=3->tts) (2.0.7)\n",
            "Requirement already satisfied: certifi>=2017.4.17 in /usr/local/lib/python3.10/dist-packages (from requests<3.0.0,>=2.13.0->spacy>=3->spacy[ja]>=3->tts) (2024.8.30)\n",
            "Requirement already satisfied: blis<0.8.0,>=0.7.8 in /usr/local/lib/python3.10/dist-packages (from thinc<8.3.0,>=8.2.2->spacy>=3->spacy[ja]>=3->tts) (0.7.11)\n",
            "Requirement already satisfied: confection<1.0.0,>=0.0.1 in /usr/local/lib/python3.10/dist-packages (from thinc<8.3.0,>=8.2.2->spacy>=3->spacy[ja]>=3->tts) (0.1.5)\n",
            "Requirement already satisfied: shellingham>=1.3.0 in /usr/local/lib/python3.10/dist-packages (from typer<1.0.0,>=0.3.0->spacy>=3->spacy[ja]>=3->tts) (1.5.4)\n",
            "Requirement already satisfied: rich>=10.11.0 in /usr/local/lib/python3.10/dist-packages (from typer<1.0.0,>=0.3.0->spacy>=3->spacy[ja]>=3->tts) (13.8.1)\n",
            "Requirement already satisfied: cloudpathlib<1.0.0,>=0.7.0 in /usr/local/lib/python3.10/dist-packages (from weasel<0.5.0,>=0.1.0->spacy>=3->spacy[ja]>=3->tts) (0.19.0)\n",
            "Requirement already satisfied: smart-open<8.0.0,>=5.2.1 in /usr/local/lib/python3.10/dist-packages (from weasel<0.5.0,>=0.1.0->spacy>=3->spacy[ja]>=3->tts) (7.0.4)\n",
            "Requirement already satisfied: mpmath<1.4,>=1.1.0 in /usr/local/lib/python3.10/dist-packages (from sympy->torch>=2.1->tts) (1.3.0)\n",
            "Requirement already satisfied: absl-py>=0.4 in /usr/local/lib/python3.10/dist-packages (from tensorboard->trainer>=0.0.32->tts) (1.4.0)\n",
            "Requirement already satisfied: grpcio>=1.48.2 in /usr/local/lib/python3.10/dist-packages (from tensorboard->trainer>=0.0.32->tts) (1.64.1)\n",
            "Requirement already satisfied: markdown>=2.6.8 in /usr/local/lib/python3.10/dist-packages (from tensorboard->trainer>=0.0.32->tts) (3.7)\n",
            "Requirement already satisfied: protobuf!=4.24.0,<5.0.0,>=3.19.6 in /usr/local/lib/python3.10/dist-packages (from tensorboard->trainer>=0.0.32->tts) (3.20.3)\n",
            "Requirement already satisfied: tensorboard-data-server<0.8.0,>=0.7.0 in /usr/local/lib/python3.10/dist-packages (from tensorboard->trainer>=0.0.32->tts) (0.7.2)\n",
            "Requirement already satisfied: marisa-trie>=0.7.7 in /usr/local/lib/python3.10/dist-packages (from language-data>=1.2->langcodes<4.0.0,>=3.2.0->spacy>=3->spacy[ja]>=3->tts) (1.2.0)\n",
            "Requirement already satisfied: markdown-it-py>=2.2.0 in /usr/local/lib/python3.10/dist-packages (from rich>=10.11.0->typer<1.0.0,>=0.3.0->spacy>=3->spacy[ja]>=3->tts) (3.0.0)\n",
            "Requirement already satisfied: pygments<3.0.0,>=2.13.0 in /usr/local/lib/python3.10/dist-packages (from rich>=10.11.0->typer<1.0.0,>=0.3.0->spacy>=3->spacy[ja]>=3->tts) (2.18.0)\n",
            "Requirement already satisfied: wrapt in /usr/local/lib/python3.10/dist-packages (from smart-open<8.0.0,>=5.2.1->weasel<0.5.0,>=0.1.0->spacy>=3->spacy[ja]>=3->tts) (1.16.0)\n",
            "Requirement already satisfied: mdurl~=0.1 in /usr/local/lib/python3.10/dist-packages (from markdown-it-py>=2.2.0->rich>=10.11.0->typer<1.0.0,>=0.3.0->spacy>=3->spacy[ja]>=3->tts) (0.1.2)\n",
            "Using cached numpy-1.22.0-cp310-cp310-manylinux_2_17_x86_64.manylinux2014_x86_64.whl (16.8 MB)\n",
            "Installing collected packages: numpy\n",
            "  Attempting uninstall: numpy\n",
            "    Found existing installation: numpy 1.26.4\n",
            "    Uninstalling numpy-1.26.4:\n",
            "      Successfully uninstalled numpy-1.26.4\n",
            "\u001b[31mERROR: pip's dependency resolver does not currently take into account all the packages that are installed. This behaviour is the source of the following dependency conflicts.\n",
            "albucore 0.0.16 requires numpy>=1.24, but you have numpy 1.22.0 which is incompatible.\n",
            "albumentations 1.4.15 requires numpy>=1.24.4, but you have numpy 1.22.0 which is incompatible.\n",
            "arviz 0.19.0 requires numpy>=1.23.0, but you have numpy 1.22.0 which is incompatible.\n",
            "astropy 6.1.3 requires numpy>=1.23, but you have numpy 1.22.0 which is incompatible.\n",
            "bigframes 1.17.0 requires numpy>=1.24.0, but you have numpy 1.22.0 which is incompatible.\n",
            "chex 0.1.86 requires numpy>=1.24.1, but you have numpy 1.22.0 which is incompatible.\n",
            "cudf-cu12 24.4.1 requires numpy<2.0a0,>=1.23, but you have numpy 1.22.0 which is incompatible.\n",
            "cudf-cu12 24.4.1 requires pandas<2.2.2dev0,>=2.0, but you have pandas 1.5.3 which is incompatible.\n",
            "mizani 0.11.4 requires numpy>=1.23.0, but you have numpy 1.22.0 which is incompatible.\n",
            "mizani 0.11.4 requires pandas>=2.1.0, but you have pandas 1.5.3 which is incompatible.\n",
            "numexpr 2.10.1 requires numpy>=1.23.0, but you have numpy 1.22.0 which is incompatible.\n",
            "pandas-stubs 2.1.4.231227 requires numpy>=1.26.0; python_version < \"3.13\", but you have numpy 1.22.0 which is incompatible.\n",
            "plotnine 0.13.6 requires numpy>=1.23.0, but you have numpy 1.22.0 which is incompatible.\n",
            "plotnine 0.13.6 requires pandas<3.0.0,>=2.1.0, but you have pandas 1.5.3 which is incompatible.\n",
            "rmm-cu12 24.4.0 requires numpy<2.0a0,>=1.23, but you have numpy 1.22.0 which is incompatible.\n",
            "scikit-image 0.23.2 requires numpy>=1.23, but you have numpy 1.22.0 which is incompatible.\n",
            "statsmodels 0.14.3 requires numpy<3,>=1.22.3, but you have numpy 1.22.0 which is incompatible.\n",
            "tensorflow 2.17.0 requires numpy<2.0.0,>=1.23.5; python_version <= \"3.11\", but you have numpy 1.22.0 which is incompatible.\n",
            "xarray 2024.9.0 requires numpy>=1.24, but you have numpy 1.22.0 which is incompatible.\n",
            "xarray 2024.9.0 requires pandas>=2.1, but you have pandas 1.5.3 which is incompatible.\u001b[0m\u001b[31m\n",
            "\u001b[0mSuccessfully installed numpy-1.22.0\n"
          ]
        },
        {
          "output_type": "display_data",
          "data": {
            "application/vnd.colab-display-data+json": {
              "pip_warning": {
                "packages": [
                  "numpy"
                ]
              },
              "id": "12f4f2dc0cf04312bb6866f283f0a345"
            }
          },
          "metadata": {}
        }
      ]
    },
    {
      "cell_type": "code",
      "source": [
        "!pip install azure-cognitiveservices-speech azure-ai-textanalytics\n",
        "!pip install noisereduce soundfile\n",
        "!pip install speech_recognition\n",
        "!pip install googletrans\n",
        "!pip install gtts\n",
        "!pip install ffmpeg\n",
        "!pip install demucs"
      ],
      "metadata": {
        "colab": {
          "base_uri": "https://localhost:8080/"
        },
        "collapsed": true,
        "id": "mNuR1aEJfXcs",
        "outputId": "2286f650-40e1-4ca5-caa2-5f6532c63ece"
      },
      "execution_count": null,
      "outputs": [
        {
          "output_type": "stream",
          "name": "stdout",
          "text": [
            "Collecting azure-cognitiveservices-speech\n",
            "  Using cached azure_cognitiveservices_speech-1.40.0-py3-none-manylinux1_x86_64.whl.metadata (1.5 kB)\n",
            "Collecting azure-ai-textanalytics\n",
            "  Using cached azure_ai_textanalytics-5.3.0-py3-none-any.whl.metadata (82 kB)\n",
            "Collecting azure-core<2.0.0,>=1.24.0 (from azure-ai-textanalytics)\n",
            "  Using cached azure_core-1.31.0-py3-none-any.whl.metadata (39 kB)\n",
            "Collecting azure-common~=1.1 (from azure-ai-textanalytics)\n",
            "  Using cached azure_common-1.1.28-py2.py3-none-any.whl.metadata (5.0 kB)\n",
            "Collecting isodate<1.0.0,>=0.6.1 (from azure-ai-textanalytics)\n",
            "  Using cached isodate-0.6.1-py2.py3-none-any.whl.metadata (9.6 kB)\n",
            "Requirement already satisfied: typing-extensions>=4.0.1 in /usr/local/lib/python3.10/dist-packages (from azure-ai-textanalytics) (4.12.2)\n",
            "Requirement already satisfied: requests>=2.21.0 in /usr/local/lib/python3.10/dist-packages (from azure-core<2.0.0,>=1.24.0->azure-ai-textanalytics) (2.32.3)\n",
            "Requirement already satisfied: six>=1.11.0 in /usr/local/lib/python3.10/dist-packages (from azure-core<2.0.0,>=1.24.0->azure-ai-textanalytics) (1.16.0)\n",
            "Requirement already satisfied: charset-normalizer<4,>=2 in /usr/local/lib/python3.10/dist-packages (from requests>=2.21.0->azure-core<2.0.0,>=1.24.0->azure-ai-textanalytics) (3.3.2)\n",
            "Requirement already satisfied: idna<4,>=2.5 in /usr/local/lib/python3.10/dist-packages (from requests>=2.21.0->azure-core<2.0.0,>=1.24.0->azure-ai-textanalytics) (3.10)\n",
            "Requirement already satisfied: urllib3<3,>=1.21.1 in /usr/local/lib/python3.10/dist-packages (from requests>=2.21.0->azure-core<2.0.0,>=1.24.0->azure-ai-textanalytics) (2.0.7)\n",
            "Requirement already satisfied: certifi>=2017.4.17 in /usr/local/lib/python3.10/dist-packages (from requests>=2.21.0->azure-core<2.0.0,>=1.24.0->azure-ai-textanalytics) (2024.8.30)\n",
            "Using cached azure_cognitiveservices_speech-1.40.0-py3-none-manylinux1_x86_64.whl (40.1 MB)\n",
            "Downloading azure_ai_textanalytics-5.3.0-py3-none-any.whl (298 kB)\n",
            "\u001b[2K   \u001b[90m━━━━━━━━━━━━━━━━━━━━━━━━━━━━━━━━━━━━━━━━\u001b[0m \u001b[32m298.6/298.6 kB\u001b[0m \u001b[31m2.0 MB/s\u001b[0m eta \u001b[36m0:00:00\u001b[0m\n",
            "\u001b[?25hDownloading azure_common-1.1.28-py2.py3-none-any.whl (14 kB)\n",
            "Downloading azure_core-1.31.0-py3-none-any.whl (197 kB)\n",
            "\u001b[2K   \u001b[90m━━━━━━━━━━━━━━━━━━━━━━━━━━━━━━━━━━━━━━━━\u001b[0m \u001b[32m197.4/197.4 kB\u001b[0m \u001b[31m12.1 MB/s\u001b[0m eta \u001b[36m0:00:00\u001b[0m\n",
            "\u001b[?25hDownloading isodate-0.6.1-py2.py3-none-any.whl (41 kB)\n",
            "\u001b[2K   \u001b[90m━━━━━━━━━━━━━━━━━━━━━━━━━━━━━━━━━━━━━━━━\u001b[0m \u001b[32m41.7/41.7 kB\u001b[0m \u001b[31m2.2 MB/s\u001b[0m eta \u001b[36m0:00:00\u001b[0m\n",
            "\u001b[?25hInstalling collected packages: azure-common, isodate, azure-cognitiveservices-speech, azure-core, azure-ai-textanalytics\n",
            "Successfully installed azure-ai-textanalytics-5.3.0 azure-cognitiveservices-speech-1.40.0 azure-common-1.1.28 azure-core-1.31.0 isodate-0.6.1\n",
            "Collecting noisereduce\n",
            "  Downloading noisereduce-3.0.2-py3-none-any.whl.metadata (14 kB)\n",
            "Requirement already satisfied: soundfile in /usr/local/lib/python3.10/dist-packages (0.12.1)\n",
            "Requirement already satisfied: scipy in /usr/local/lib/python3.10/dist-packages (from noisereduce) (1.11.4)\n",
            "Requirement already satisfied: matplotlib in /usr/local/lib/python3.10/dist-packages (from noisereduce) (3.7.1)\n",
            "Requirement already satisfied: librosa in /usr/local/lib/python3.10/dist-packages (from noisereduce) (0.10.0)\n",
            "Requirement already satisfied: numpy in /usr/local/lib/python3.10/dist-packages (from noisereduce) (1.22.0)\n",
            "Requirement already satisfied: tqdm in /usr/local/lib/python3.10/dist-packages (from noisereduce) (4.66.5)\n",
            "Requirement already satisfied: cffi>=1.0 in /usr/local/lib/python3.10/dist-packages (from soundfile) (1.17.1)\n",
            "Requirement already satisfied: pycparser in /usr/local/lib/python3.10/dist-packages (from cffi>=1.0->soundfile) (2.22)\n",
            "Requirement already satisfied: audioread>=2.1.9 in /usr/local/lib/python3.10/dist-packages (from librosa->noisereduce) (3.0.1)\n",
            "Requirement already satisfied: scikit-learn>=0.20.0 in /usr/local/lib/python3.10/dist-packages (from librosa->noisereduce) (1.3.2)\n",
            "Requirement already satisfied: joblib>=0.14 in /usr/local/lib/python3.10/dist-packages (from librosa->noisereduce) (1.4.2)\n",
            "Requirement already satisfied: decorator>=4.3.0 in /usr/local/lib/python3.10/dist-packages (from librosa->noisereduce) (4.4.2)\n",
            "Requirement already satisfied: numba>=0.51.0 in /usr/local/lib/python3.10/dist-packages (from librosa->noisereduce) (0.60.0)\n",
            "Requirement already satisfied: pooch>=1.0 in /usr/local/lib/python3.10/dist-packages (from librosa->noisereduce) (1.8.2)\n",
            "Requirement already satisfied: soxr>=0.3.2 in /usr/local/lib/python3.10/dist-packages (from librosa->noisereduce) (0.5.0.post1)\n",
            "Requirement already satisfied: typing-extensions>=4.1.1 in /usr/local/lib/python3.10/dist-packages (from librosa->noisereduce) (4.12.2)\n",
            "Requirement already satisfied: lazy-loader>=0.1 in /usr/local/lib/python3.10/dist-packages (from librosa->noisereduce) (0.4)\n",
            "Requirement already satisfied: msgpack>=1.0 in /usr/local/lib/python3.10/dist-packages (from librosa->noisereduce) (1.0.8)\n",
            "Requirement already satisfied: contourpy>=1.0.1 in /usr/local/lib/python3.10/dist-packages (from matplotlib->noisereduce) (1.2.1)\n",
            "Requirement already satisfied: cycler>=0.10 in /usr/local/lib/python3.10/dist-packages (from matplotlib->noisereduce) (0.12.1)\n",
            "Requirement already satisfied: fonttools>=4.22.0 in /usr/local/lib/python3.10/dist-packages (from matplotlib->noisereduce) (4.53.1)\n",
            "Requirement already satisfied: kiwisolver>=1.0.1 in /usr/local/lib/python3.10/dist-packages (from matplotlib->noisereduce) (1.4.7)\n",
            "Requirement already satisfied: packaging>=20.0 in /usr/local/lib/python3.10/dist-packages (from matplotlib->noisereduce) (24.1)\n",
            "Requirement already satisfied: pillow>=6.2.0 in /usr/local/lib/python3.10/dist-packages (from matplotlib->noisereduce) (10.4.0)\n",
            "Requirement already satisfied: pyparsing>=2.3.1 in /usr/local/lib/python3.10/dist-packages (from matplotlib->noisereduce) (3.1.4)\n",
            "Requirement already satisfied: python-dateutil>=2.7 in /usr/local/lib/python3.10/dist-packages (from matplotlib->noisereduce) (2.8.2)\n",
            "Requirement already satisfied: llvmlite<0.44,>=0.43.0dev0 in /usr/local/lib/python3.10/dist-packages (from numba>=0.51.0->librosa->noisereduce) (0.43.0)\n",
            "Requirement already satisfied: platformdirs>=2.5.0 in /usr/local/lib/python3.10/dist-packages (from pooch>=1.0->librosa->noisereduce) (4.3.6)\n",
            "Requirement already satisfied: requests>=2.19.0 in /usr/local/lib/python3.10/dist-packages (from pooch>=1.0->librosa->noisereduce) (2.32.3)\n",
            "Requirement already satisfied: six>=1.5 in /usr/local/lib/python3.10/dist-packages (from python-dateutil>=2.7->matplotlib->noisereduce) (1.16.0)\n",
            "Requirement already satisfied: threadpoolctl>=2.0.0 in /usr/local/lib/python3.10/dist-packages (from scikit-learn>=0.20.0->librosa->noisereduce) (3.5.0)\n",
            "Requirement already satisfied: charset-normalizer<4,>=2 in /usr/local/lib/python3.10/dist-packages (from requests>=2.19.0->pooch>=1.0->librosa->noisereduce) (3.3.2)\n",
            "Requirement already satisfied: idna<4,>=2.5 in /usr/local/lib/python3.10/dist-packages (from requests>=2.19.0->pooch>=1.0->librosa->noisereduce) (3.10)\n",
            "Requirement already satisfied: urllib3<3,>=1.21.1 in /usr/local/lib/python3.10/dist-packages (from requests>=2.19.0->pooch>=1.0->librosa->noisereduce) (2.0.7)\n",
            "Requirement already satisfied: certifi>=2017.4.17 in /usr/local/lib/python3.10/dist-packages (from requests>=2.19.0->pooch>=1.0->librosa->noisereduce) (2024.8.30)\n",
            "Downloading noisereduce-3.0.2-py3-none-any.whl (22 kB)\n",
            "Installing collected packages: noisereduce\n",
            "Successfully installed noisereduce-3.0.2\n",
            "\u001b[31mERROR: Could not find a version that satisfies the requirement speech_recognition (from versions: none)\u001b[0m\u001b[31m\n",
            "\u001b[0m\u001b[31mERROR: No matching distribution found for speech_recognition\u001b[0m\u001b[31m\n",
            "\u001b[0mCollecting googletrans\n",
            "  Downloading googletrans-3.0.0.tar.gz (17 kB)\n",
            "  Preparing metadata (setup.py) ... \u001b[?25l\u001b[?25hdone\n",
            "Collecting httpx==0.13.3 (from googletrans)\n",
            "  Downloading httpx-0.13.3-py3-none-any.whl.metadata (25 kB)\n",
            "Requirement already satisfied: certifi in /usr/local/lib/python3.10/dist-packages (from httpx==0.13.3->googletrans) (2024.8.30)\n",
            "Collecting hstspreload (from httpx==0.13.3->googletrans)\n",
            "  Downloading hstspreload-2024.9.1-py3-none-any.whl.metadata (2.1 kB)\n",
            "Requirement already satisfied: sniffio in /usr/local/lib/python3.10/dist-packages (from httpx==0.13.3->googletrans) (1.3.1)\n",
            "Collecting chardet==3.* (from httpx==0.13.3->googletrans)\n",
            "  Downloading chardet-3.0.4-py2.py3-none-any.whl.metadata (3.2 kB)\n",
            "Collecting idna==2.* (from httpx==0.13.3->googletrans)\n",
            "  Downloading idna-2.10-py2.py3-none-any.whl.metadata (9.1 kB)\n",
            "Collecting rfc3986<2,>=1.3 (from httpx==0.13.3->googletrans)\n",
            "  Downloading rfc3986-1.5.0-py2.py3-none-any.whl.metadata (6.5 kB)\n",
            "Collecting httpcore==0.9.* (from httpx==0.13.3->googletrans)\n",
            "  Downloading httpcore-0.9.1-py3-none-any.whl.metadata (4.6 kB)\n",
            "Collecting h11<0.10,>=0.8 (from httpcore==0.9.*->httpx==0.13.3->googletrans)\n",
            "  Downloading h11-0.9.0-py2.py3-none-any.whl.metadata (8.1 kB)\n",
            "Collecting h2==3.* (from httpcore==0.9.*->httpx==0.13.3->googletrans)\n",
            "  Downloading h2-3.2.0-py2.py3-none-any.whl.metadata (32 kB)\n",
            "Collecting hyperframe<6,>=5.2.0 (from h2==3.*->httpcore==0.9.*->httpx==0.13.3->googletrans)\n",
            "  Downloading hyperframe-5.2.0-py2.py3-none-any.whl.metadata (7.2 kB)\n",
            "Collecting hpack<4,>=3.0 (from h2==3.*->httpcore==0.9.*->httpx==0.13.3->googletrans)\n",
            "  Downloading hpack-3.0.0-py2.py3-none-any.whl.metadata (7.0 kB)\n",
            "Downloading httpx-0.13.3-py3-none-any.whl (55 kB)\n",
            "\u001b[2K   \u001b[90m━━━━━━━━━━━━━━━━━━━━━━━━━━━━━━━━━━━━━━━━\u001b[0m \u001b[32m55.1/55.1 kB\u001b[0m \u001b[31m2.4 MB/s\u001b[0m eta \u001b[36m0:00:00\u001b[0m\n",
            "\u001b[?25hDownloading chardet-3.0.4-py2.py3-none-any.whl (133 kB)\n",
            "\u001b[2K   \u001b[90m━━━━━━━━━━━━━━━━━━━━━━━━━━━━━━━━━━━━━━━━\u001b[0m \u001b[32m133.4/133.4 kB\u001b[0m \u001b[31m3.0 MB/s\u001b[0m eta \u001b[36m0:00:00\u001b[0m\n",
            "\u001b[?25hDownloading httpcore-0.9.1-py3-none-any.whl (42 kB)\n",
            "\u001b[2K   \u001b[90m━━━━━━━━━━━━━━━━━━━━━━━━━━━━━━━━━━━━━━━━\u001b[0m \u001b[32m42.6/42.6 kB\u001b[0m \u001b[31m3.3 MB/s\u001b[0m eta \u001b[36m0:00:00\u001b[0m\n",
            "\u001b[?25hDownloading idna-2.10-py2.py3-none-any.whl (58 kB)\n",
            "\u001b[2K   \u001b[90m━━━━━━━━━━━━━━━━━━━━━━━━━━━━━━━━━━━━━━━━\u001b[0m \u001b[32m58.8/58.8 kB\u001b[0m \u001b[31m4.9 MB/s\u001b[0m eta \u001b[36m0:00:00\u001b[0m\n",
            "\u001b[?25hDownloading h2-3.2.0-py2.py3-none-any.whl (65 kB)\n",
            "\u001b[2K   \u001b[90m━━━━━━━━━━━━━━━━━━━━━━━━━━━━━━━━━━━━━━━━\u001b[0m \u001b[32m65.0/65.0 kB\u001b[0m \u001b[31m5.3 MB/s\u001b[0m eta \u001b[36m0:00:00\u001b[0m\n",
            "\u001b[?25hDownloading rfc3986-1.5.0-py2.py3-none-any.whl (31 kB)\n",
            "Downloading hstspreload-2024.9.1-py3-none-any.whl (1.2 MB)\n",
            "\u001b[2K   \u001b[90m━━━━━━━━━━━━━━━━━━━━━━━━━━━━━━━━━━━━━━━━\u001b[0m \u001b[32m1.2/1.2 MB\u001b[0m \u001b[31m13.2 MB/s\u001b[0m eta \u001b[36m0:00:00\u001b[0m\n",
            "\u001b[?25hDownloading h11-0.9.0-py2.py3-none-any.whl (53 kB)\n",
            "\u001b[2K   \u001b[90m━━━━━━━━━━━━━━━━━━━━━━━━━━━━━━━━━━━━━━━━\u001b[0m \u001b[32m53.6/53.6 kB\u001b[0m \u001b[31m4.0 MB/s\u001b[0m eta \u001b[36m0:00:00\u001b[0m\n",
            "\u001b[?25hDownloading hpack-3.0.0-py2.py3-none-any.whl (38 kB)\n",
            "Downloading hyperframe-5.2.0-py2.py3-none-any.whl (12 kB)\n",
            "Building wheels for collected packages: googletrans\n",
            "  Building wheel for googletrans (setup.py) ... \u001b[?25l\u001b[?25hdone\n",
            "  Created wheel for googletrans: filename=googletrans-3.0.0-py3-none-any.whl size=15718 sha256=2556f6d6e484c564b5a9a8f27c9449c9ca22a37b4aa9092fd6a64c7a34445362\n",
            "  Stored in directory: /root/.cache/pip/wheels/b3/81/ea/8b030407f8ebfc2f857814e086bb22ca2d4fea1a7be63652ab\n",
            "Successfully built googletrans\n",
            "Installing collected packages: rfc3986, hyperframe, hpack, h11, chardet, idna, hstspreload, h2, httpcore, httpx, googletrans\n",
            "  Attempting uninstall: chardet\n",
            "    Found existing installation: chardet 5.2.0\n",
            "    Uninstalling chardet-5.2.0:\n",
            "      Successfully uninstalled chardet-5.2.0\n",
            "  Attempting uninstall: idna\n",
            "    Found existing installation: idna 3.10\n",
            "    Uninstalling idna-3.10:\n",
            "      Successfully uninstalled idna-3.10\n",
            "\u001b[31mERROR: pip's dependency resolver does not currently take into account all the packages that are installed. This behaviour is the source of the following dependency conflicts.\n",
            "tensorflow 2.17.0 requires numpy<2.0.0,>=1.23.5; python_version <= \"3.11\", but you have numpy 1.22.0 which is incompatible.\u001b[0m\u001b[31m\n",
            "\u001b[0mSuccessfully installed chardet-3.0.4 googletrans-3.0.0 h11-0.9.0 h2-3.2.0 hpack-3.0.0 hstspreload-2024.9.1 httpcore-0.9.1 httpx-0.13.3 hyperframe-5.2.0 idna-2.10 rfc3986-1.5.0\n",
            "Collecting gtts\n",
            "  Downloading gTTS-2.5.3-py3-none-any.whl.metadata (4.1 kB)\n",
            "Requirement already satisfied: requests<3,>=2.27 in /usr/local/lib/python3.10/dist-packages (from gtts) (2.32.3)\n",
            "Requirement already satisfied: click<8.2,>=7.1 in /usr/local/lib/python3.10/dist-packages (from gtts) (8.1.7)\n",
            "Requirement already satisfied: charset-normalizer<4,>=2 in /usr/local/lib/python3.10/dist-packages (from requests<3,>=2.27->gtts) (3.3.2)\n",
            "Requirement already satisfied: idna<4,>=2.5 in /usr/local/lib/python3.10/dist-packages (from requests<3,>=2.27->gtts) (2.10)\n",
            "Requirement already satisfied: urllib3<3,>=1.21.1 in /usr/local/lib/python3.10/dist-packages (from requests<3,>=2.27->gtts) (2.0.7)\n",
            "Requirement already satisfied: certifi>=2017.4.17 in /usr/local/lib/python3.10/dist-packages (from requests<3,>=2.27->gtts) (2024.8.30)\n",
            "Downloading gTTS-2.5.3-py3-none-any.whl (29 kB)\n",
            "Installing collected packages: gtts\n",
            "Successfully installed gtts-2.5.3\n",
            "Collecting ffmpeg\n",
            "  Downloading ffmpeg-1.4.tar.gz (5.1 kB)\n",
            "  Preparing metadata (setup.py) ... \u001b[?25l\u001b[?25hdone\n",
            "Building wheels for collected packages: ffmpeg\n",
            "  Building wheel for ffmpeg (setup.py) ... \u001b[?25l\u001b[?25hdone\n",
            "  Created wheel for ffmpeg: filename=ffmpeg-1.4-py3-none-any.whl size=6083 sha256=e7a8476a1bcd027d608c5555e4c004426d4dc691ba6681e4f0abfb272f7ecebb\n",
            "  Stored in directory: /root/.cache/pip/wheels/8e/7a/69/cd6aeb83b126a7f04cbe7c9d929028dc52a6e7d525ff56003a\n",
            "Successfully built ffmpeg\n",
            "Installing collected packages: ffmpeg\n",
            "Successfully installed ffmpeg-1.4\n"
          ]
        }
      ]
    },
    {
      "cell_type": "markdown",
      "source": [
        "### Import necessary libraries"
      ],
      "metadata": {
        "id": "edtSYdRoBflw"
      }
    },
    {
      "cell_type": "code",
      "source": [
        "from pyannote.audio import Pipeline\n",
        "from pydub import AudioSegment\n",
        "import os\n",
        "import os\n",
        "import azure.cognitiveservices.speech as speechsdk\n",
        "from azure.ai.textanalytics import TextAnalyticsClient\n",
        "from azure.core.credentials import AzureKeyCredential\n",
        "import moviepy.editor as mp\n",
        "import time\n",
        "#import noisereduce as nr\n",
        "import librosa\n",
        "import soundfile as sf\n",
        "import numpy as np\n",
        "from scipy.io.wavfile import write\n",
        "#import speech_recognition as sr\n",
        "# from transformers import pipeline\n",
        "from googletrans import Translator\n",
        "from gtts import gTTS\n",
        "from pydub import AudioSegment\n",
        "import azure.cognitiveservices.speech as speechsdk\n",
        "import ffmpeg\n",
        "import subprocess"
      ],
      "metadata": {
        "id": "OvomcRc5-VY5"
      },
      "execution_count": 2,
      "outputs": []
    },
    {
      "cell_type": "markdown",
      "source": [
        "#### Global variables"
      ],
      "metadata": {
        "id": "Leok8_uBEmdQ"
      }
    },
    {
      "cell_type": "code",
      "source": [
        "from google.colab import drive\n",
        "drive.mount('/content/drive')"
      ],
      "metadata": {
        "id": "--tBwKubg5he"
      },
      "execution_count": null,
      "outputs": []
    },
    {
      "cell_type": "code",
      "source": [
        "from TTS.api import TTS"
      ],
      "metadata": {
        "id": "DBNZAd1HgF9W"
      },
      "execution_count": 3,
      "outputs": []
    },
    {
      "cell_type": "code",
      "source": [
        "# Azure credentials\n",
        "speech_key = \"***\"\n",
        "speech_region = \"eastus\"\n",
        "translator_key = \"***\"\n",
        "translator_endpoint = \"https://api.cognitive.microsofttranslator.com/\"\n",
        "\n",
        "tts = TTS(\"tts_models/multilingual/multi-dataset/xtts_v2\", gpu=False)\n",
        "\n",
        "pipeline = Pipeline.from_pretrained(\n",
        "        'pyannote/speaker-diarization-3.1',\n",
        "        use_auth_token='***'\n",
        "    )"
      ],
      "metadata": {
        "id": "alVbJblLEpo3",
        "colab": {
          "base_uri": "https://localhost:8080/"
        },
        "outputId": "04d40884-c5f8-4a48-e515-00434f23dfec"
      },
      "execution_count": 4,
      "outputs": [
        {
          "output_type": "stream",
          "name": "stdout",
          "text": [
            " > tts_models/multilingual/multi-dataset/xtts_v2 is already downloaded.\n",
            " > Using model: xtts\n"
          ]
        }
      ]
    },
    {
      "cell_type": "markdown",
      "source": [
        "## Utils"
      ],
      "metadata": {
        "id": "u5WUdVLwDhqY"
      }
    },
    {
      "cell_type": "markdown",
      "source": [
        "#### Reduce Noise"
      ],
      "metadata": {
        "id": "kijafOhrEGoB"
      }
    },
    {
      "cell_type": "code",
      "source": [
        "def remove_noise(input_audio_path, output_audio_path, noise_reduction_level=0.1):\n",
        "    \"\"\"\n",
        "    Remove background noise from audio.\n",
        "    Args:\n",
        "        input_audio_path (str): Path to the input audio file.\n",
        "        output_audio_path (str): Path to save the noise-reduced audio file.\n",
        "        noise_reduction_level (float): The amount of noise reduction (0 to 1).\n",
        "    \"\"\"\n",
        "    # Load the audio file\n",
        "    audio_data, sample_rate = librosa.load(input_audio_path, sr=None)\n",
        "\n",
        "    # Perform noise reduction using spectral gating\n",
        "    reduced_noise = librosa.effects.reduce_noise(y=audio_data, sr=sample_rate, prop_decrease=noise_reduction_level)\n",
        "\n",
        "    # Save the noise-reduced audio file\n",
        "    write(output_audio_path, sample_rate, (reduced_noise * 32767).astype(np.int16))\n",
        "    print(f\"Noise-reduced audio saved at {output_audio_path}\")\n",
        "\n",
        "def separate_with_demucs(audio_file_path, output_dir=\"demucs_output\"):\n",
        "    # Run Demucs to separate vocals and music\n",
        "    command = [\"demucs\", \"--two-stems=vocals\", audio_file_path, \"-o\", output_dir]\n",
        "    subprocess.run(command)"
      ],
      "metadata": {
        "id": "IFayDVlGDfEH"
      },
      "execution_count": null,
      "outputs": []
    },
    {
      "cell_type": "markdown",
      "source": [
        "#### Video to audio"
      ],
      "metadata": {
        "id": "1LoYBJWaEJVy"
      }
    },
    {
      "cell_type": "code",
      "source": [
        "def extract_audio_from_video(video_file, output_audio_file):\n",
        "    print(\"Extracting audio from video...\")\n",
        "    video = mp.VideoFileClip(video_file)\n",
        "    video.audio.write_audiofile(output_audio_file)\n",
        "    print(f\"Audio saved to {output_audio_file}\")\n",
        "\n",
        "    # Separate audio into vocals and non-vocals\n",
        "    separate_with_demucs(output_audio_file, \"output_audio_folder\")"
      ],
      "metadata": {
        "id": "DRjS4iihER9k"
      },
      "execution_count": 5,
      "outputs": []
    },
    {
      "cell_type": "markdown",
      "source": [
        "#### Speech to text"
      ],
      "metadata": {
        "id": "VQXoZmv7EeHl"
      }
    },
    {
      "cell_type": "code",
      "source": [
        "def segregate_speakers(audio_path, output_dir=\"output_segments\"):\n",
        "    \"\"\"\n",
        "    Segregates different speaker's voices and returns their timestamps and audio segments.\n",
        "\n",
        "    :param audio_path: Path to the input audio file.\n",
        "    :param output_dir: Directory where speaker audio segments will be saved.\n",
        "    :return: List of dictionaries containing speaker label, timestamps, and segment path.\n",
        "    \"\"\"\n",
        "    # Perform diarization on the input audio file\n",
        "    diarization = pipeline(audio_path)\n",
        "\n",
        "    # Load the original audio using pydub\n",
        "    audio = AudioSegment.from_wav(audio_path)\n",
        "\n",
        "    # Create the output directory if it doesn't exist\n",
        "    if not os.path.exists(output_dir):\n",
        "        os.makedirs(output_dir)\n",
        "\n",
        "    # Create a dictionary to store speaker segments\n",
        "    speaker_data = {}\n",
        "\n",
        "    # Iterate over diarization results and save each segment\n",
        "    for i, (segment,_ , speaker) in enumerate(diarization.itertracks(yield_label=True)):\n",
        "        # Convert start and end times from seconds to milliseconds\n",
        "        start_time = segment.start * 1000\n",
        "        end_time = segment.end * 1000\n",
        "\n",
        "        # Extract the audio segment for this speaker\n",
        "        audio_segment = audio[start_time:end_time]\n",
        "\n",
        "        # Save the audio segment to a file\n",
        "        segment_filename = os.path.join(output_dir, f\"speaker_{speaker}_segment_{i}.wav\")\n",
        "        audio_segment.export(segment_filename, format=\"wav\")\n",
        "\n",
        "        # Store each segment in the speaker's dictionary\n",
        "        if speaker not in speaker_data:\n",
        "            speaker_data[speaker] = []\n",
        "        speaker_data[speaker].append({\n",
        "            'start_time': segment.start,\n",
        "            'end_time': segment.end,\n",
        "            'audio_path': segment_filename\n",
        "        })\n",
        "\n",
        "    return speaker_data\n",
        "\n",
        "def transcribe_audio_segment(segment_path, source_language):\n",
        "    speech_config = speechsdk.SpeechConfig(subscription=speech_key, region=speech_region)\n",
        "    speech_config.speech_recognition_language = source_language\n",
        "    audio_config = speechsdk.AudioConfig(filename=segment_path)\n",
        "\n",
        "    recognizer = speechsdk.SpeechRecognizer(speech_config=speech_config, audio_config=audio_config)\n",
        "    result = recognizer.recognize_once()\n",
        "\n",
        "    if result.reason == speechsdk.ResultReason.RecognizedSpeech:\n",
        "        return result.text\n",
        "    else:\n",
        "        return None\n",
        "\n",
        "# Function to perform speaker diarization, segment the audio, and transcribe\n",
        "def transcribe_multispeaker_audio(audio_file_path, source_language, output_dir=\"output_segments\"):\n",
        "    # Step 1: Segregate speakers and get their audio segments\n",
        "    speaker_data = segregate_speakers(audio_file_path, output_dir)\n",
        "    # Step 2: Transcribe each speaker's audio segment\n",
        "    transcription_results = []\n",
        "    for speaker, segments in speaker_data.items():\n",
        "        for segment in segments:\n",
        "            segment_path = segment['audio_path']\n",
        "            print(f\"Transcribing segment for {speaker}: {segment_path}\")\n",
        "            # Transcribe the segment\n",
        "            transcription = transcribe_audio_segment(segment_path, source_language)\n",
        "            # Append the transcription and metadata\n",
        "            transcription_results.append({\n",
        "                'speaker': speaker,\n",
        "                'start_time': segment['start_time'],\n",
        "                'end_time': segment['end_time'],\n",
        "                'transcription': transcription,\n",
        "                'audio_path': segment_path\n",
        "            })\n",
        "\n",
        "    # Step 3: Return combined transcription results\n",
        "    return transcription_results"
      ],
      "metadata": {
        "id": "YguHxdpdEgff"
      },
      "execution_count": 6,
      "outputs": []
    },
    {
      "cell_type": "code",
      "source": [
        "transcriptions = transcribe_multispeaker_audio(\"/content/drive/MyDrive/aais-aidub/test.wav\", \"en-US\")"
      ],
      "metadata": {
        "colab": {
          "base_uri": "https://localhost:8080/"
        },
        "id": "Kym4Ch0Djwnk",
        "outputId": "6c1fdfbb-0010-41f2-acb6-8b3473adf80e"
      },
      "execution_count": 7,
      "outputs": [
        {
          "output_type": "stream",
          "name": "stdout",
          "text": [
            "Transcribing segment for SPEAKER_02: output_segments/speaker_SPEAKER_02_segment_0.wav\n",
            "Transcribing segment for SPEAKER_02: output_segments/speaker_SPEAKER_02_segment_1.wav\n",
            "Transcribing segment for SPEAKER_02: output_segments/speaker_SPEAKER_02_segment_2.wav\n",
            "Transcribing segment for SPEAKER_02: output_segments/speaker_SPEAKER_02_segment_3.wav\n",
            "Transcribing segment for SPEAKER_02: output_segments/speaker_SPEAKER_02_segment_11.wav\n",
            "Transcribing segment for SPEAKER_02: output_segments/speaker_SPEAKER_02_segment_12.wav\n",
            "Transcribing segment for SPEAKER_01: output_segments/speaker_SPEAKER_01_segment_4.wav\n",
            "Transcribing segment for SPEAKER_01: output_segments/speaker_SPEAKER_01_segment_5.wav\n",
            "Transcribing segment for SPEAKER_01: output_segments/speaker_SPEAKER_01_segment_6.wav\n",
            "Transcribing segment for SPEAKER_01: output_segments/speaker_SPEAKER_01_segment_8.wav\n",
            "Transcribing segment for SPEAKER_00: output_segments/speaker_SPEAKER_00_segment_7.wav\n",
            "Transcribing segment for SPEAKER_00: output_segments/speaker_SPEAKER_00_segment_9.wav\n",
            "Transcribing segment for SPEAKER_00: output_segments/speaker_SPEAKER_00_segment_10.wav\n"
          ]
        }
      ]
    },
    {
      "cell_type": "markdown",
      "source": [
        "#### Translate"
      ],
      "metadata": {
        "id": "S95jSasHHrYP"
      }
    },
    {
      "cell_type": "code",
      "source": [
        "def translate(transcription, target_language):\n",
        "    import requests\n",
        "    import uuid\n",
        "\n",
        "    # Prepare the translation request\n",
        "    path = '/translate?api-version=3.0'\n",
        "    params = f'&to={target_language}'\n",
        "    constructed_url = translator_endpoint + path + params\n",
        "\n",
        "    headers = {\n",
        "        'Ocp-Apim-Subscription-Key': translator_key,\n",
        "        'Ocp-Apim-Subscription-Region': speech_region,\n",
        "        'Content-type': 'application/json',\n",
        "        'X-ClientTraceId': str(uuid.uuid4())\n",
        "    }\n",
        "\n",
        "    body = [{'text': transcription}]\n",
        "\n",
        "    request = requests.post(constructed_url, headers=headers, json=body)\n",
        "    response = request.json()\n",
        "\n",
        "    translated_text = response[0][\"translations\"][0][\"text\"]\n",
        "    return translated_text\n",
        "\n",
        "def translate_text(transcriptions, target_language):\n",
        "    for transcription in transcriptions:\n",
        "        if transcription['transcription']:\n",
        "            translated_text = translate(transcription['transcription'], target_language)\n",
        "            transcription['translated_text'] = translated_text\n",
        "        else:\n",
        "            transcription['translated_text'] = transcription['transcription']\n",
        "    return transcriptions"
      ],
      "metadata": {
        "id": "75Fdt3ihHxDC"
      },
      "execution_count": 18,
      "outputs": []
    },
    {
      "cell_type": "code",
      "source": [
        "transcriptions = translate_text(transcriptions, \"hi\")"
      ],
      "metadata": {
        "id": "BwIR5MJYomrU"
      },
      "execution_count": 19,
      "outputs": []
    },
    {
      "cell_type": "code",
      "source": [
        "transcriptions"
      ],
      "metadata": {
        "colab": {
          "base_uri": "https://localhost:8080/"
        },
        "id": "SZY4U2xPq-2W",
        "outputId": "13ef2d5e-d319-4107-c945-e73d54983990"
      },
      "execution_count": 21,
      "outputs": [
        {
          "output_type": "execute_result",
          "data": {
            "text/plain": [
              "[{'speaker': 'SPEAKER_02',\n",
              "  'start_time': 0.03096875,\n",
              "  'end_time': 8.130968750000001,\n",
              "  'transcription': 'Well, the vexed issue of euthanasia continues to divide the community. Few debates have been as emotionally charged, and never have two sides been further apart.',\n",
              "  'audio_path': 'output_segments/speaker_SPEAKER_02_segment_0.wav',\n",
              "  'translated_text': 'खैर, इच्छामृत्यु का विवादास्पद मुद्दा समुदाय को विभाजित करना जारी रखता है। कुछ बहसें भावनात्मक रूप से चार्ज की गई हैं, और कभी भी दो पक्ष अलग नहीं हुए हैं।'},\n",
              " {'speaker': 'SPEAKER_02',\n",
              "  'start_time': 8.704718750000001,\n",
              "  'end_time': 19.656593750000003,\n",
              "  'transcription': 'Tonight we look at both those sites, this controversial issue with Ronald Marks, head of the Euthanasia Council of Australia. Good evening and Vanessa Gibbs, acting chairperson of the Civil Liberties Council.',\n",
              "  'audio_path': 'output_segments/speaker_SPEAKER_02_segment_1.wav',\n",
              "  'translated_text': 'आज रात हम उन दोनों साइटों को देखते हैं, ऑस्ट्रेलिया के इच्छामृत्यु परिषद के प्रमुख रोनाल्ड मार्क्स के साथ यह विवादास्पद मुद्दा। गुड इवनिंग और वैनेसा गिब्स, सिविल लिबर्टीज काउंसिल की कार्यवाहक अध्यक्ष।'},\n",
              " {'speaker': 'SPEAKER_02',\n",
              "  'start_time': 19.89284375,\n",
              "  'end_time': 24.21284375,\n",
              "  'transcription': 'First year Ronald, you believe euthanasia should be legalised? Absolutely.',\n",
              "  'audio_path': 'output_segments/speaker_SPEAKER_02_segment_2.wav',\n",
              "  'translated_text': 'प्रथम वर्ष रोनाल्ड, आप मानते हैं कि इच्छामृत्यु को वैध किया जाना चाहिए? वाक़ई।'},\n",
              " {'speaker': 'SPEAKER_02',\n",
              "  'start_time': 24.938468750000002,\n",
              "  'end_time': 27.55409375,\n",
              "  'transcription': \"It's a fundamental right currently denied us all.\",\n",
              "  'audio_path': 'output_segments/speaker_SPEAKER_02_segment_3.wav',\n",
              "  'translated_text': 'यह एक मौलिक अधिकार है जिसे वर्तमान में हम सभी से वंचित किया गया है।'},\n",
              " {'speaker': 'SPEAKER_02',\n",
              "  'start_time': 40.68284375,\n",
              "  'end_time': 40.969718750000006,\n",
              "  'transcription': 'Right.',\n",
              "  'audio_path': 'output_segments/speaker_SPEAKER_02_segment_11.wav',\n",
              "  'translated_text': 'दाएँ।'},\n",
              " {'speaker': 'SPEAKER_02',\n",
              "  'start_time': 42.28596875,\n",
              "  'end_time': 43.88909375,\n",
              "  'transcription': 'Well, we, Peter, found consensus.',\n",
              "  'audio_path': 'output_segments/speaker_SPEAKER_02_segment_12.wav',\n",
              "  'translated_text': 'खैर, हम, पीटर, आम सहमति मिली।'},\n",
              " {'speaker': 'SPEAKER_01',\n",
              "  'start_time': 28.81971875,\n",
              "  'end_time': 29.44409375,\n",
              "  'transcription': 'Vanessa.',\n",
              "  'audio_path': 'output_segments/speaker_SPEAKER_01_segment_4.wav',\n",
              "  'translated_text': 'वैनेसा।'},\n",
              " {'speaker': 'SPEAKER_01',\n",
              "  'start_time': 29.86596875,\n",
              "  'end_time': 30.996593750000002,\n",
              "  'transcription': 'What do you have to say to that?',\n",
              "  'audio_path': 'output_segments/speaker_SPEAKER_01_segment_5.wav',\n",
              "  'translated_text': 'इस पर आपका क्या कहना है?'},\n",
              " {'speaker': 'SPEAKER_01',\n",
              "  'start_time': 31.35096875,\n",
              "  'end_time': 31.367843750000002,\n",
              "  'transcription': None,\n",
              "  'audio_path': 'output_segments/speaker_SPEAKER_01_segment_6.wav',\n",
              "  'translated_text': None},\n",
              " {'speaker': 'SPEAKER_01',\n",
              "  'start_time': 34.32096875,\n",
              "  'end_time': 34.70909375,\n",
              "  'transcription': None,\n",
              "  'audio_path': 'output_segments/speaker_SPEAKER_01_segment_8.wav',\n",
              "  'translated_text': None},\n",
              " {'speaker': 'SPEAKER_00',\n",
              "  'start_time': 31.367843750000002,\n",
              "  'end_time': 31.941593750000003,\n",
              "  'transcription': 'I agree.',\n",
              "  'audio_path': 'output_segments/speaker_SPEAKER_00_segment_7.wav',\n",
              "  'translated_text': 'मैं सहमत हूँ।'},\n",
              " {'speaker': 'SPEAKER_00',\n",
              "  'start_time': 35.43471875,\n",
              "  'end_time': 38.15159375,\n",
              "  'transcription': 'The Council of Civil Liberties fully supports euthanasia.',\n",
              "  'audio_path': 'output_segments/speaker_SPEAKER_00_segment_9.wav',\n",
              "  'translated_text': 'काउंसिल ऑफ सिविल लिबर्टीज पूरी तरह से इच्छामृत्यु का समर्थन करती है।'},\n",
              " {'speaker': 'SPEAKER_00',\n",
              "  'start_time': 38.52284375,\n",
              "  'end_time': 39.14721875,\n",
              "  'transcription': 'Always have.',\n",
              "  'audio_path': 'output_segments/speaker_SPEAKER_00_segment_10.wav',\n",
              "  'translated_text': 'हमेशा होता है।'}]"
            ]
          },
          "metadata": {},
          "execution_count": 21
        }
      ]
    },
    {
      "cell_type": "markdown",
      "source": [
        "#### Text to Speech"
      ],
      "metadata": {
        "id": "JTXbqFxtH3Hf"
      }
    },
    {
      "cell_type": "code",
      "source": [
        "def text_to_speech(transcriptions, target_language):\n",
        "    for transcription in transcriptions:\n",
        "        translated_text = transcription['translated_text']\n",
        "        original_audio = transcription['audio_path']\n",
        "        output_file = transcription['audio_path'].replace(\".wav\", \"_dubbed.wav\")\n",
        "        print(translated_text)\n",
        "        if translated_text:\n",
        "            try:\n",
        "                tts.tts_to_file(text=translated_text, file_path=output_file, speaker_wav=original_audio, language=target_language)\n",
        "                transcription['dubbed_audio_path'] = output_file\n",
        "            except:\n",
        "                transcription['dubbed_audio_path'] = original_audio\n",
        "        else:\n",
        "            transcription['dubbed_audio_path'] = original_audio\n",
        "\n",
        "    return transcriptions"
      ],
      "metadata": {
        "id": "doOkqXv8H70u"
      },
      "execution_count": 27,
      "outputs": []
    },
    {
      "cell_type": "code",
      "source": [
        "transcriptions"
      ],
      "metadata": {
        "colab": {
          "base_uri": "https://localhost:8080/"
        },
        "id": "COqpYU0dtQgo",
        "outputId": "4f1846f9-54dc-40c1-ca83-89812f137968"
      },
      "execution_count": 41,
      "outputs": [
        {
          "output_type": "execute_result",
          "data": {
            "text/plain": [
              "[{'speaker': 'SPEAKER_02',\n",
              "  'start_time': 0.03096875,\n",
              "  'end_time': 8.130968750000001,\n",
              "  'transcription': 'Well, the vexed issue of euthanasia continues to divide the community. Few debates have been as emotionally charged, and never have two sides been further apart.',\n",
              "  'audio_path': 'output_segments/speaker_SPEAKER_02_segment_0.wav',\n",
              "  'translated_text': 'खैर, इच्छामृत्यु का विवादास्पद मुद्दा समुदाय को विभाजित करना जारी रखता है। कुछ बहसें भावनात्मक रूप से चार्ज की गई हैं, और कभी भी दो पक्ष अलग नहीं हुए हैं।',\n",
              "  'dubbed_audio_path': 'output_segments/speaker_SPEAKER_02_segment_0_dubbed.wav'},\n",
              " {'speaker': 'SPEAKER_02',\n",
              "  'start_time': 8.704718750000001,\n",
              "  'end_time': 19.656593750000003,\n",
              "  'transcription': 'Tonight we look at both those sites, this controversial issue with Ronald Marks, head of the Euthanasia Council of Australia. Good evening and Vanessa Gibbs, acting chairperson of the Civil Liberties Council.',\n",
              "  'audio_path': 'output_segments/speaker_SPEAKER_02_segment_1.wav',\n",
              "  'translated_text': 'आज रात हम उन दोनों साइटों को देखते हैं, ऑस्ट्रेलिया के इच्छामृत्यु परिषद के प्रमुख रोनाल्ड मार्क्स के साथ यह विवादास्पद मुद्दा। गुड इवनिंग और वैनेसा गिब्स, सिविल लिबर्टीज काउंसिल की कार्यवाहक अध्यक्ष।',\n",
              "  'dubbed_audio_path': 'output_segments/speaker_SPEAKER_02_segment_1_dubbed.wav'},\n",
              " {'speaker': 'SPEAKER_02',\n",
              "  'start_time': 19.89284375,\n",
              "  'end_time': 24.21284375,\n",
              "  'transcription': 'First year Ronald, you believe euthanasia should be legalised? Absolutely.',\n",
              "  'audio_path': 'output_segments/speaker_SPEAKER_02_segment_2.wav',\n",
              "  'translated_text': 'प्रथम वर्ष रोनाल्ड, आप मानते हैं कि इच्छामृत्यु को वैध किया जाना चाहिए? वाक़ई।',\n",
              "  'dubbed_audio_path': 'output_segments/speaker_SPEAKER_02_segment_2_dubbed.wav'},\n",
              " {'speaker': 'SPEAKER_02',\n",
              "  'start_time': 24.938468750000002,\n",
              "  'end_time': 27.55409375,\n",
              "  'transcription': \"It's a fundamental right currently denied us all.\",\n",
              "  'audio_path': 'output_segments/speaker_SPEAKER_02_segment_3.wav',\n",
              "  'translated_text': 'यह एक मौलिक अधिकार है जिसे वर्तमान में हम सभी से वंचित किया गया है।',\n",
              "  'dubbed_audio_path': 'output_segments/speaker_SPEAKER_02_segment_3_dubbed.wav'},\n",
              " {'speaker': 'SPEAKER_02',\n",
              "  'start_time': 40.68284375,\n",
              "  'end_time': 40.969718750000006,\n",
              "  'transcription': 'Right.',\n",
              "  'audio_path': 'output_segments/speaker_SPEAKER_02_segment_11.wav',\n",
              "  'translated_text': 'दाएँ।',\n",
              "  'dubbed_audio_path': 'output_segments/speaker_SPEAKER_02_segment_11.wav'},\n",
              " {'speaker': 'SPEAKER_02',\n",
              "  'start_time': 42.28596875,\n",
              "  'end_time': 43.88909375,\n",
              "  'transcription': 'Well, we, Peter, found consensus.',\n",
              "  'audio_path': 'output_segments/speaker_SPEAKER_02_segment_12.wav',\n",
              "  'translated_text': 'खैर, हम, पीटर, आम सहमति मिली।',\n",
              "  'dubbed_audio_path': 'output_segments/speaker_SPEAKER_02_segment_12_dubbed.wav'},\n",
              " {'speaker': 'SPEAKER_01',\n",
              "  'start_time': 28.81971875,\n",
              "  'end_time': 29.44409375,\n",
              "  'transcription': 'Vanessa.',\n",
              "  'audio_path': 'output_segments/speaker_SPEAKER_01_segment_4.wav',\n",
              "  'translated_text': 'वैनेसा।',\n",
              "  'dubbed_audio_path': 'output_segments/speaker_SPEAKER_01_segment_4_dubbed.wav'},\n",
              " {'speaker': 'SPEAKER_01',\n",
              "  'start_time': 29.86596875,\n",
              "  'end_time': 30.996593750000002,\n",
              "  'transcription': 'What do you have to say to that?',\n",
              "  'audio_path': 'output_segments/speaker_SPEAKER_01_segment_5.wav',\n",
              "  'translated_text': 'इस पर आपका क्या कहना है?',\n",
              "  'dubbed_audio_path': 'output_segments/speaker_SPEAKER_01_segment_5_dubbed.wav'},\n",
              " {'speaker': 'SPEAKER_01',\n",
              "  'start_time': 31.35096875,\n",
              "  'end_time': 31.367843750000002,\n",
              "  'transcription': None,\n",
              "  'audio_path': 'output_segments/speaker_SPEAKER_01_segment_6.wav',\n",
              "  'translated_text': None,\n",
              "  'dubbed_audio_path': 'output_segments/speaker_SPEAKER_01_segment_6.wav'},\n",
              " {'speaker': 'SPEAKER_01',\n",
              "  'start_time': 34.32096875,\n",
              "  'end_time': 34.70909375,\n",
              "  'transcription': None,\n",
              "  'audio_path': 'output_segments/speaker_SPEAKER_01_segment_8.wav',\n",
              "  'translated_text': None,\n",
              "  'dubbed_audio_path': 'output_segments/speaker_SPEAKER_01_segment_8.wav'},\n",
              " {'speaker': 'SPEAKER_00',\n",
              "  'start_time': 31.367843750000002,\n",
              "  'end_time': 31.941593750000003,\n",
              "  'transcription': 'I agree.',\n",
              "  'audio_path': 'output_segments/speaker_SPEAKER_00_segment_7.wav',\n",
              "  'translated_text': 'मैं सहमत हूँ।',\n",
              "  'dubbed_audio_path': 'output_segments/speaker_SPEAKER_00_segment_7_dubbed.wav'},\n",
              " {'speaker': 'SPEAKER_00',\n",
              "  'start_time': 35.43471875,\n",
              "  'end_time': 38.15159375,\n",
              "  'transcription': 'The Council of Civil Liberties fully supports euthanasia.',\n",
              "  'audio_path': 'output_segments/speaker_SPEAKER_00_segment_9.wav',\n",
              "  'translated_text': 'काउंसिल ऑफ सिविल लिबर्टीज पूरी तरह से इच्छामृत्यु का समर्थन करती है।',\n",
              "  'dubbed_audio_path': 'output_segments/speaker_SPEAKER_00_segment_9_dubbed.wav'},\n",
              " {'speaker': 'SPEAKER_00',\n",
              "  'start_time': 38.52284375,\n",
              "  'end_time': 39.14721875,\n",
              "  'transcription': 'Always have.',\n",
              "  'audio_path': 'output_segments/speaker_SPEAKER_00_segment_10.wav',\n",
              "  'translated_text': 'हमेशा होता है।',\n",
              "  'dubbed_audio_path': 'output_segments/speaker_SPEAKER_00_segment_10_dubbed.wav'}]"
            ]
          },
          "metadata": {},
          "execution_count": 41
        }
      ]
    },
    {
      "cell_type": "code",
      "source": [
        "sorted_data = sorted(transcriptions, key=lambda x: x['start_time'])"
      ],
      "metadata": {
        "id": "XJzbC8WqE0nn"
      },
      "execution_count": 42,
      "outputs": []
    },
    {
      "cell_type": "code",
      "source": [],
      "metadata": {
        "id": "0nRC_7ZYE4tU"
      },
      "execution_count": null,
      "outputs": []
    },
    {
      "cell_type": "code",
      "source": [
        "text_to_speech(transcriptions, \"hi\")"
      ],
      "metadata": {
        "id": "hiSYT5Ycr0ht"
      },
      "execution_count": null,
      "outputs": []
    },
    {
      "cell_type": "markdown",
      "source": [
        "#### Replace original audio with dubbed audio in Video\n"
      ],
      "metadata": {
        "id": "UrB8RFKtIVBb"
      }
    },
    {
      "cell_type": "code",
      "source": [
        "def mute_original_audio(input_video_path, output_muted_video_path):\n",
        "    \"\"\"\n",
        "    Mute the original audio in the video.\n",
        "\n",
        "    Args:\n",
        "        input_video_path (str): Path to the input video file.\n",
        "        output_muted_video_path (str): Path to save the muted output video.\n",
        "    \"\"\"\n",
        "    subprocess.run([\n",
        "        'ffmpeg', '-i', input_video_path, '-c', 'copy', '-an', output_muted_video_path\n",
        "    ], check=True)\n",
        "    print(f\"Muted video saved at: {output_muted_video_path}\")\n",
        "\n",
        "def replace_audio(input_video_path, input_audio_path, output_video_path):\n",
        "    \"\"\"\n",
        "    Replace the original audio in a video with new audio.\n",
        "\n",
        "    Args:\n",
        "        input_video_path (str): Path to the input muted video file.\n",
        "        input_audio_path (str): Path to the new audio file.\n",
        "        output_video_path (str): Path to save the final video with replaced audio.\n",
        "    \"\"\"\n",
        "    subprocess.run([\n",
        "        'ffmpeg', '-i', input_video_path, '-i', input_audio_path, '-c:v', 'copy', '-c:a', 'aac', '-strict', 'experimental', output_video_path\n",
        "    ], check=True)\n",
        "    print(f\"Final video with replaced audio saved at: {output_video_path}\")"
      ],
      "metadata": {
        "id": "NDR3FndOIcDR"
      },
      "execution_count": null,
      "outputs": []
    },
    {
      "cell_type": "code",
      "source": [
        "from pydub import AudioSegment\n",
        "\n",
        "def merge_audio_with_dubbed_segments(original_audio_path, segments):\n",
        "    # Load the original audio\n",
        "    combined_audio = AudioSegment.from_wav(original_audio_path)\n",
        "\n",
        "    # Process each segment\n",
        "    for segment in segments:\n",
        "        start_time_ms = segment['start_time'] * 1000  # Convert to milliseconds\n",
        "        end_time_ms = segment['end_time'] * 1000      # Convert to milliseconds\n",
        "        dubbed_audio_path = segment['dubbed_audio_path']\n",
        "        # Load the dubbed audio\n",
        "        dubbed_audio = AudioSegment.from_wav(dubbed_audio_path)\n",
        "        # Overlay the dubbed audio onto the original audio at the start time\n",
        "        combined_audio = combined_audio.overlay(dubbed_audio, position=start_time_ms)\n",
        "\n",
        "    # Export the combined audio\n",
        "    output_path = \"merged_output.wav\"\n",
        "    combined_audio.export(output_path, format=\"wav\")\n",
        "\n",
        "    return output_path\n",
        "\n",
        "merge_audio_with_dubbed_segments(\"/content/demucs_output/htdemucs/singam_audio/no_vocals.wav\", transcriptions)"
      ],
      "metadata": {
        "colab": {
          "base_uri": "https://localhost:8080/",
          "height": 36
        },
        "id": "lBgIsGEbE8zZ",
        "outputId": "2c24f269-254a-4ba7-938b-9148e49eff0a"
      },
      "execution_count": 44,
      "outputs": [
        {
          "output_type": "execute_result",
          "data": {
            "text/plain": [
              "'merged_output.wav'"
            ],
            "application/vnd.google.colaboratory.intrinsic+json": {
              "type": "string"
            }
          },
          "metadata": {},
          "execution_count": 44
        }
      ]
    },
    {
      "cell_type": "markdown",
      "source": [
        "#### Change audio Speed"
      ],
      "metadata": {
        "id": "cfvY9Jr8JFLY"
      }
    },
    {
      "cell_type": "code",
      "source": [
        "from pydub import AudioSegment\n",
        "from pydub.playback import speedup\n",
        "\n",
        "def adjust_audio_speed(audio_path, start_time, end_time, output_path):\n",
        "    # Load the audio file\n",
        "    audio = AudioSegment.from_file(audio_path)\n",
        "\n",
        "    # Calculate the original duration of the audio in seconds\n",
        "    original_duration = len(audio) / 1000.0  # Convert from milliseconds to seconds\n",
        "\n",
        "    # Calculate the target duration (difference between start and end time)\n",
        "    target_duration = end_time - start_time\n",
        "\n",
        "    # Calculate the speed factor (target duration / original duration)\n",
        "    speed_factor = original_duration / target_duration\n",
        "\n",
        "    # Speed up or slow down the audio to fit the target duration\n",
        "    if speed_factor > 1:\n",
        "        # If the speed factor is greater than 1, speed up the audio\n",
        "        adjusted_audio = speedup(audio, playback_speed=speed_factor)\n",
        "\n",
        "    # Export the adjusted audio\n",
        "    adjusted_audio.export(audio_path, format=\"wav\")\n",
        "\n",
        "    print(f\"Audio adjusted to fit between {start_time}s and {end_time}s and saved as {output_path}\")\n",
        "    print(f\"Original Duration: {original_duration}s, Target Duration: {target_duration}s\")"
      ],
      "metadata": {
        "id": "C84cPAaZJKVc"
      },
      "execution_count": null,
      "outputs": []
    },
    {
      "cell_type": "code",
      "source": [
        "!cp -r /content/output_segments /content/drive/MyDrive/aais-aidub"
      ],
      "metadata": {
        "id": "V6x0vDJh7HgC"
      },
      "execution_count": 31,
      "outputs": []
    },
    {
      "cell_type": "markdown",
      "source": [
        "# Dub (main function)"
      ],
      "metadata": {
        "id": "xgwrwUM0JxZ9"
      }
    },
    {
      "cell_type": "code",
      "source": [
        "input_video_file = \"/content/drive/MyDrive/aais-aidub/news_video.mp4\"\n",
        "original_audio = \"/content/drive/MyDrive/aais-aidub/news_video_ori_audio.wav\"\n",
        "output_audio = \"/content/drive/MyDrive/aais-aidub/news_video_output_audio.wav\"\n",
        "output_video = \"/content/drive/MyDrive/aais-aidub/news_video_dubbed.mp4\"\n",
        "target_language = \"hi\"\n",
        "source_language = \"en-US\"\n",
        "\n",
        "# Step 1: Extract the original audio from the video\n",
        "original_audio_file = input_video_file.replace(\".mp4\", \"_ori_audio.wav\")\n",
        "extract_audio_from_video(input_video_file, original_audio_file)\n",
        "\n",
        "# Step 2: Transcribe the original audio in the specified source language\n",
        "transcription = transcribe_audio(original_audio_file, source_language)\n",
        "if not transcription:\n",
        "    print(\"Transcription failed.\")"
      ],
      "metadata": {
        "id": "zzSCgF_Zg-yQ"
      },
      "execution_count": null,
      "outputs": []
    },
    {
      "cell_type": "code",
      "source": [
        "# Main function to run the process\n",
        "def DubVideo(input_video_file, target_language, source_language=\"en-US\"):\n",
        "\n",
        "    # Step 1: Extract the original audio from the video\n",
        "    original_audio_file = input_video_file.split(\".mp4\")[0] + \".wav\"\n",
        "    extract_audio_from_video(input_video_file, original_audio_file)\n",
        "\n",
        "    # Step 2: Transcribe the original audio in the specified source language\n",
        "    transcription = transcribe_audio(original_audio_file, source_language)\n",
        "    if not transcription:\n",
        "        print(\"Transcription failed.\")\n",
        "        return\n",
        "\n",
        "    # Step 3: Translate the transcription into the target language\n",
        "    translated_text = translate_text(transcription, target_language)\n",
        "\n",
        "    # Step 4: Convert the translated text back to speech\n",
        "    output_audio_file = original_audio_file.split(\".wav\")[0] + \"_dubbed.wav\"\n",
        "    text_to_speech(translated_text, output_audio_file, original_audio_file, target_language)\n",
        "\n",
        "    # Step 2: Reduce noise in the extracted audio\n",
        "    reduce_noise(output_audio_file, output_audio_file)\n",
        "\n",
        "    # Step 5: Replace the audio in the original video\n",
        "    output_video_file = input_video_file.split(\".mp4\")[0] + \"_dubbed.wav\"\n",
        "    replace_audio_in_video(input_video_file, output_audio_file, output_video_file)"
      ],
      "metadata": {
        "id": "Whym3pqaAcmc"
      },
      "execution_count": null,
      "outputs": []
    }
  ]
}